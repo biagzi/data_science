{
 "cells": [
  {
   "cell_type": "code",
   "execution_count": 12,
   "metadata": {},
   "outputs": [],
   "source": [
    "import pandas as pd\n",
    "import matplotlib.pyplot as plt"
   ]
  },
  {
   "cell_type": "code",
   "execution_count": 3,
   "metadata": {},
   "outputs": [],
   "source": [
    "df_raw= pd.read_csv('raw_data/test_raw_data.csv')"
   ]
  },
  {
   "cell_type": "code",
   "execution_count": 4,
   "metadata": {},
   "outputs": [
    {
     "data": {
      "text/html": [
       "<div>\n",
       "<style scoped>\n",
       "    .dataframe tbody tr th:only-of-type {\n",
       "        vertical-align: middle;\n",
       "    }\n",
       "\n",
       "    .dataframe tbody tr th {\n",
       "        vertical-align: top;\n",
       "    }\n",
       "\n",
       "    .dataframe thead th {\n",
       "        text-align: right;\n",
       "    }\n",
       "</style>\n",
       "<table border=\"1\" class=\"dataframe\">\n",
       "  <thead>\n",
       "    <tr style=\"text-align: right;\">\n",
       "      <th></th>\n",
       "      <th>Nome</th>\n",
       "      <th>Sobrenome</th>\n",
       "      <th>E-mail</th>\n",
       "      <th>CPF</th>\n",
       "      <th>Match</th>\n",
       "      <th>Potencial Bruto</th>\n",
       "      <th>Raciocínio</th>\n",
       "      <th>Social</th>\n",
       "      <th>Motivacional</th>\n",
       "      <th>Cultura pontuação</th>\n",
       "      <th>...</th>\n",
       "      <th>Início - Raciocínio</th>\n",
       "      <th>Fim - Raciocínio</th>\n",
       "      <th>Início - Cultura</th>\n",
       "      <th>Fim - Cultura</th>\n",
       "      <th>Início - Social</th>\n",
       "      <th>Fim - Social</th>\n",
       "      <th>Início - Motivacional</th>\n",
       "      <th>Fim - Motivacional</th>\n",
       "      <th>Início - Perfil</th>\n",
       "      <th>Fim - Perfil</th>\n",
       "    </tr>\n",
       "  </thead>\n",
       "  <tbody>\n",
       "    <tr>\n",
       "      <th>0</th>\n",
       "      <td>Heloísa</td>\n",
       "      <td>Duartche</td>\n",
       "      <td>heloisaduarte7623@example.com</td>\n",
       "      <td>582.975.481-98</td>\n",
       "      <td>NaN</td>\n",
       "      <td>15.02</td>\n",
       "      <td>10.89</td>\n",
       "      <td>8.50</td>\n",
       "      <td>30.78</td>\n",
       "      <td>61.62</td>\n",
       "      <td>...</td>\n",
       "      <td>2019-08-21 16:35:33.827601+00:00</td>\n",
       "      <td>2019-09-02 18:47:40.230133+00:00</td>\n",
       "      <td>2018-06-12 13:50:12.544201+00:00</td>\n",
       "      <td>2019-09-02 18:45:58.610119+00:00</td>\n",
       "      <td>2019-08-21 16:36:46.205308+00:00</td>\n",
       "      <td>2019-09-02 18:47:52.188799+00:00</td>\n",
       "      <td>2017-10-02 21:37:08.829909+00:00</td>\n",
       "      <td>2017-10-02 21:37:55.440674+00:00</td>\n",
       "      <td>2019-09-02 18:48:52.221133+00:00</td>\n",
       "      <td>2019-09-02 18:49:55.512234+00:00</td>\n",
       "    </tr>\n",
       "    <tr>\n",
       "      <th>1</th>\n",
       "      <td>Sophia</td>\n",
       "      <td>Lima</td>\n",
       "      <td>sophialima1036@example.com</td>\n",
       "      <td>618.492.035-98</td>\n",
       "      <td>NaN</td>\n",
       "      <td>41.18</td>\n",
       "      <td>27.31</td>\n",
       "      <td>31.07</td>\n",
       "      <td>77.53</td>\n",
       "      <td>71.92</td>\n",
       "      <td>...</td>\n",
       "      <td>2017-03-11 00:47:44.258948+00:00</td>\n",
       "      <td>2017-03-11 01:36:09.837171+00:00</td>\n",
       "      <td>2017-03-11 04:39:17.036294+00:00</td>\n",
       "      <td>2017-03-11 04:44:18.962437+00:00</td>\n",
       "      <td>2017-03-11 05:08:18.867391+00:00</td>\n",
       "      <td>2017-03-11 05:22:52.602643+00:00</td>\n",
       "      <td>2017-03-11 04:55:58.406306+00:00</td>\n",
       "      <td>2017-03-11 05:06:41.817962+00:00</td>\n",
       "      <td>2017-03-11 04:46:18.698012+00:00</td>\n",
       "      <td>2017-03-11 04:52:43.434487+00:00</td>\n",
       "    </tr>\n",
       "    <tr>\n",
       "      <th>2</th>\n",
       "      <td>Cauã</td>\n",
       "      <td>Alves</td>\n",
       "      <td>cauaalves8382@example.com</td>\n",
       "      <td>376.104.598-11</td>\n",
       "      <td>NaN</td>\n",
       "      <td>56.78</td>\n",
       "      <td>71.39</td>\n",
       "      <td>47.53</td>\n",
       "      <td>46.36</td>\n",
       "      <td>49.10</td>\n",
       "      <td>...</td>\n",
       "      <td>2017-04-09 11:48:22.486594+00:00</td>\n",
       "      <td>2017-04-09 12:35:40.925275+00:00</td>\n",
       "      <td>2017-04-09 12:38:23.387423+00:00</td>\n",
       "      <td>2017-04-09 12:43:47.091106+00:00</td>\n",
       "      <td>2017-04-09 13:05:14.795158+00:00</td>\n",
       "      <td>2017-04-09 13:14:37.327611+00:00</td>\n",
       "      <td>2017-04-09 12:53:30.554098+00:00</td>\n",
       "      <td>2017-04-09 13:05:01.111152+00:00</td>\n",
       "      <td>2017-04-09 12:44:57.652249+00:00</td>\n",
       "      <td>2017-04-09 12:52:19.887744+00:00</td>\n",
       "    </tr>\n",
       "    <tr>\n",
       "      <th>3</th>\n",
       "      <td>Daniel</td>\n",
       "      <td>Costela</td>\n",
       "      <td>danielcostela2294@example.com</td>\n",
       "      <td>056.378.194-75</td>\n",
       "      <td>NaN</td>\n",
       "      <td>NaN</td>\n",
       "      <td>63.01</td>\n",
       "      <td>NaN</td>\n",
       "      <td>NaN</td>\n",
       "      <td>22.87</td>\n",
       "      <td>...</td>\n",
       "      <td>2016-05-18 21:18:04.261501+00:00</td>\n",
       "      <td>2016-05-18 22:28:54.132025+00:00</td>\n",
       "      <td>2016-05-18 22:52:06.038503+00:00</td>\n",
       "      <td>2016-05-18 22:57:58.911020+00:00</td>\n",
       "      <td>NaN</td>\n",
       "      <td>NaN</td>\n",
       "      <td>NaN</td>\n",
       "      <td>NaN</td>\n",
       "      <td>NaN</td>\n",
       "      <td>NaN</td>\n",
       "    </tr>\n",
       "    <tr>\n",
       "      <th>4</th>\n",
       "      <td>Maria Julia</td>\n",
       "      <td>Caldeira</td>\n",
       "      <td>maria-juliacaldeira1072@example.com</td>\n",
       "      <td>235.406.789-56</td>\n",
       "      <td>NaN</td>\n",
       "      <td>50.96</td>\n",
       "      <td>79.87</td>\n",
       "      <td>21.19</td>\n",
       "      <td>46.36</td>\n",
       "      <td>41.31</td>\n",
       "      <td>...</td>\n",
       "      <td>2016-09-12 01:22:45.706329+00:00</td>\n",
       "      <td>2016-09-12 02:24:49.906533+00:00</td>\n",
       "      <td>2016-09-12 02:25:19.996132+00:00</td>\n",
       "      <td>2016-09-12 02:30:27.135027+00:00</td>\n",
       "      <td>2016-09-27 21:29:39.650033+00:00</td>\n",
       "      <td>2016-10-01 15:21:30.723428+00:00</td>\n",
       "      <td>2016-09-26 01:52:37.631780+00:00</td>\n",
       "      <td>2016-09-26 02:08:20.131566+00:00</td>\n",
       "      <td>2016-09-26 02:10:02.246086+00:00</td>\n",
       "      <td>2016-09-26 02:17:52.166309+00:00</td>\n",
       "    </tr>\n",
       "  </tbody>\n",
       "</table>\n",
       "<p>5 rows × 58 columns</p>\n",
       "</div>"
      ],
      "text/plain": [
       "          Nome Sobrenome                               E-mail             CPF  \\\n",
       "0      Heloísa  Duartche        heloisaduarte7623@example.com  582.975.481-98   \n",
       "1       Sophia      Lima           sophialima1036@example.com  618.492.035-98   \n",
       "2         Cauã     Alves            cauaalves8382@example.com  376.104.598-11   \n",
       "3       Daniel   Costela        danielcostela2294@example.com  056.378.194-75   \n",
       "4  Maria Julia  Caldeira  maria-juliacaldeira1072@example.com  235.406.789-56   \n",
       "\n",
       "   Match  Potencial Bruto  Raciocínio  Social  Motivacional  \\\n",
       "0    NaN            15.02       10.89    8.50         30.78   \n",
       "1    NaN            41.18       27.31   31.07         77.53   \n",
       "2    NaN            56.78       71.39   47.53         46.36   \n",
       "3    NaN              NaN       63.01     NaN           NaN   \n",
       "4    NaN            50.96       79.87   21.19         46.36   \n",
       "\n",
       "   Cultura pontuação  ...               Início - Raciocínio  \\\n",
       "0              61.62  ...  2019-08-21 16:35:33.827601+00:00   \n",
       "1              71.92  ...  2017-03-11 00:47:44.258948+00:00   \n",
       "2              49.10  ...  2017-04-09 11:48:22.486594+00:00   \n",
       "3              22.87  ...  2016-05-18 21:18:04.261501+00:00   \n",
       "4              41.31  ...  2016-09-12 01:22:45.706329+00:00   \n",
       "\n",
       "                   Fim - Raciocínio                  Início - Cultura  \\\n",
       "0  2019-09-02 18:47:40.230133+00:00  2018-06-12 13:50:12.544201+00:00   \n",
       "1  2017-03-11 01:36:09.837171+00:00  2017-03-11 04:39:17.036294+00:00   \n",
       "2  2017-04-09 12:35:40.925275+00:00  2017-04-09 12:38:23.387423+00:00   \n",
       "3  2016-05-18 22:28:54.132025+00:00  2016-05-18 22:52:06.038503+00:00   \n",
       "4  2016-09-12 02:24:49.906533+00:00  2016-09-12 02:25:19.996132+00:00   \n",
       "\n",
       "                      Fim - Cultura                   Início - Social  \\\n",
       "0  2019-09-02 18:45:58.610119+00:00  2019-08-21 16:36:46.205308+00:00   \n",
       "1  2017-03-11 04:44:18.962437+00:00  2017-03-11 05:08:18.867391+00:00   \n",
       "2  2017-04-09 12:43:47.091106+00:00  2017-04-09 13:05:14.795158+00:00   \n",
       "3  2016-05-18 22:57:58.911020+00:00                               NaN   \n",
       "4  2016-09-12 02:30:27.135027+00:00  2016-09-27 21:29:39.650033+00:00   \n",
       "\n",
       "                       Fim - Social             Início - Motivacional  \\\n",
       "0  2019-09-02 18:47:52.188799+00:00  2017-10-02 21:37:08.829909+00:00   \n",
       "1  2017-03-11 05:22:52.602643+00:00  2017-03-11 04:55:58.406306+00:00   \n",
       "2  2017-04-09 13:14:37.327611+00:00  2017-04-09 12:53:30.554098+00:00   \n",
       "3                               NaN                               NaN   \n",
       "4  2016-10-01 15:21:30.723428+00:00  2016-09-26 01:52:37.631780+00:00   \n",
       "\n",
       "                 Fim - Motivacional                   Início - Perfil  \\\n",
       "0  2017-10-02 21:37:55.440674+00:00  2019-09-02 18:48:52.221133+00:00   \n",
       "1  2017-03-11 05:06:41.817962+00:00  2017-03-11 04:46:18.698012+00:00   \n",
       "2  2017-04-09 13:05:01.111152+00:00  2017-04-09 12:44:57.652249+00:00   \n",
       "3                               NaN                               NaN   \n",
       "4  2016-09-26 02:08:20.131566+00:00  2016-09-26 02:10:02.246086+00:00   \n",
       "\n",
       "                       Fim - Perfil  \n",
       "0  2019-09-02 18:49:55.512234+00:00  \n",
       "1  2017-03-11 04:52:43.434487+00:00  \n",
       "2  2017-04-09 12:52:19.887744+00:00  \n",
       "3                               NaN  \n",
       "4  2016-09-26 02:17:52.166309+00:00  \n",
       "\n",
       "[5 rows x 58 columns]"
      ]
     },
     "execution_count": 4,
     "metadata": {},
     "output_type": "execute_result"
    }
   ],
   "source": [
    "df_raw.head()"
   ]
  },
  {
   "cell_type": "code",
   "execution_count": 21,
   "metadata": {},
   "outputs": [
    {
     "name": "stdout",
     "output_type": "stream",
     "text": [
      "<class 'pandas.core.frame.DataFrame'>\n",
      "RangeIndex: 4281 entries, 0 to 4280\n",
      "Data columns (total 49 columns):\n",
      " #   Column                               Non-Null Count  Dtype  \n",
      "---  ------                               --------------  -----  \n",
      " 0   CPF                                  4281 non-null   object \n",
      " 1   Potencial Bruto                      928 non-null    float64\n",
      " 2   Raciocínio                           3234 non-null   float64\n",
      " 3   Social                               981 non-null    float64\n",
      " 4   Motivacional                         956 non-null    float64\n",
      " 5   Cultura pontuação                    3311 non-null   float64\n",
      " 6   Cultura classificação                3311 non-null   object \n",
      " 7   atributo-Capacidade analítica        921 non-null    float64\n",
      " 8   atributo-Pensamento conceitual       921 non-null    float64\n",
      " 9   atributo-Reflexão                    921 non-null    float64\n",
      " 10  atributo-Pensamento criativo         921 non-null    float64\n",
      " 11  atributo-Planejamento e organização  921 non-null    float64\n",
      " 12  atributo-Comunicação                 921 non-null    float64\n",
      " 13  atributo-Consideração pelos outros   921 non-null    float64\n",
      " 14  atributo-Influência                  921 non-null    float64\n",
      " 15  atributo-Sociabilidade               921 non-null    float64\n",
      " 16  atributo-Facilitação                 921 non-null    float64\n",
      " 17  atributo-Flexibilidade               921 non-null    float64\n",
      " 18  atributo-Estabilidade emocional      921 non-null    float64\n",
      " 19  atributo-Ambição                     921 non-null    float64\n",
      " 20  atributo-Iniciativa                  921 non-null    float64\n",
      " 21  atributo-Assertividade               921 non-null    float64\n",
      " 22  atributo-Tomada de riscos            921 non-null    float64\n",
      " 23  perfil-Capacidade analítica          1019 non-null   float64\n",
      " 24  perfil-Pensamento conceitual         1019 non-null   float64\n",
      " 25  perfil-Reflexão                      1019 non-null   float64\n",
      " 26  perfil-Pensamento criativo           1019 non-null   float64\n",
      " 27  perfil-Planejamento e organização    1019 non-null   float64\n",
      " 28  perfil-Comunicação                   1019 non-null   float64\n",
      " 29  perfil-Consideração pelos outros     1019 non-null   float64\n",
      " 30  perfil-Influência                    1019 non-null   float64\n",
      " 31  perfil-Sociabilidade                 1019 non-null   float64\n",
      " 32  perfil-Facilitação                   1019 non-null   float64\n",
      " 33  perfil-Flexibilidade                 1019 non-null   float64\n",
      " 34  perfil-Estabilidade emocional        1019 non-null   float64\n",
      " 35  perfil-Ambição                       1019 non-null   float64\n",
      " 36  perfil-Iniciativa                    1019 non-null   float64\n",
      " 37  perfil-Assertividade                 1019 non-null   float64\n",
      " 38  perfil-Tomada de riscos              1019 non-null   float64\n",
      " 39  Início - Raciocínio                  3508 non-null   object \n",
      " 40  Fim - Raciocínio                     3221 non-null   object \n",
      " 41  Início - Cultura                     3337 non-null   object \n",
      " 42  Fim - Cultura                        3297 non-null   object \n",
      " 43  Início - Social                      998 non-null    object \n",
      " 44  Fim - Social                         981 non-null    object \n",
      " 45  Início - Motivacional                967 non-null    object \n",
      " 46  Fim - Motivacional                   956 non-null    object \n",
      " 47  Início - Perfil                      1027 non-null   object \n",
      " 48  Fim - Perfil                         1019 non-null   object \n",
      "dtypes: float64(37), object(12)\n",
      "memory usage: 1.6+ MB\n"
     ]
    }
   ],
   "source": [
    "df_raw.info()"
   ]
  },
  {
   "cell_type": "markdown",
   "metadata": {},
   "source": [
    "There are 5 tests:\n",
    "\n",
    "Raciocínio, Cultura, Social, Motivacional, Perfil"
   ]
  },
  {
   "cell_type": "markdown",
   "metadata": {},
   "source": [
    "## Drop columns not used now"
   ]
  },
  {
   "cell_type": "code",
   "execution_count": 5,
   "metadata": {},
   "outputs": [],
   "source": [
    "#Clean url information\n",
    "url_labels = [\"URL Raciocínio\",\"URL Cultura\",\"URL Social\",\"URL Motivacional\",\"URL Perfil\"]\n",
    "df_raw = df_raw.drop(url_labels, axis=1)\n",
    "#Clean information not useful now\n",
    "not_useful_labels = [\"Nome\",'Sobrenome','E-mail','Match']\n",
    "df_raw = df_raw.drop(not_useful_labels, axis=1)"
   ]
  },
  {
   "cell_type": "markdown",
   "metadata": {},
   "source": [
    "As a first approach, I will not use the time took to do the the test as a feature for analysis. Maybe it does not makes sense anyway"
   ]
  },
  {
   "cell_type": "code",
   "execution_count": 6,
   "metadata": {},
   "outputs": [],
   "source": [
    "not_useful_for_now_labels = ['Início - Perfil','Fim - Perfil','Início - Motivacional','Fim - Motivacional','Início - Social','Fim - Social',\"Início - Raciocínio\",'Fim - Raciocínio','Início - Cultura','Fim - Cultura']\n",
    "df_raw = df_raw.drop(not_useful_for_now_labels, axis=1)"
   ]
  },
  {
   "cell_type": "code",
   "execution_count": 26,
   "metadata": {},
   "outputs": [],
   "source": [
    "#Drop Cultura classificação\n",
    "df_raw = df_raw.drop(['Cultura classificação'], axis=1)"
   ]
  },
  {
   "cell_type": "code",
   "execution_count": 28,
   "metadata": {},
   "outputs": [],
   "source": [
    "df_features = df_raw\n",
    "df_features.to_csv(\"processed_data/test_data.csv\")"
   ]
  },
  {
   "cell_type": "markdown",
   "metadata": {},
   "source": [
    "All the quantitative metrics are between [0,100] interval"
   ]
  },
  {
   "cell_type": "markdown",
   "metadata": {},
   "source": [
    "DO: Understand if information in \"Cultura classificação\" and \"Cultura pontuação\" are redundant\n",
    "NEED TO UNDESTAND: \n",
    "\n",
    "- how the \"potencial bruto\" is calculated. If it is a mean of the other variables it could be redundant.\n",
    "- What is the difference between the \"atributo\" and the \"perfil\" categories? "
   ]
  },
  {
   "cell_type": "markdown",
   "metadata": {},
   "source": [
    "NEED TO KNOW: In performance, what is the best, 1 or 3?"
   ]
  },
  {
   "cell_type": "markdown",
   "metadata": {},
   "source": [
    "DO: I will not use the CPF in the model training, however, I need it to connect the area and performance datasets.\n",
    "\n",
    "After I finished it doing it, I will not need it anymore. However, after the prediction, I should have a way of finding for each CPF, if it is OK in its function or if it could be better to transferr it to other area.\n",
    "\n"
   ]
  },
  {
   "cell_type": "markdown",
   "metadata": {},
   "source": [
    "What will be the prediction? The performance OR/AND the area the person should be?"
   ]
  },
  {
   "cell_type": "markdown",
   "metadata": {},
   "source": [
    "### Possibilities:"
   ]
  },
  {
   "cell_type": "markdown",
   "metadata": {},
   "source": [
    "1 - Classify what are the best profiles for each area: (X=atributos+performance(com grande peso),y=area)"
   ]
  },
  {
   "cell_type": "markdown",
   "metadata": {},
   "source": [
    "2- Cluster the profiles of JUST the best performances for each area(Xspace =BEST)"
   ]
  },
  {
   "cell_type": "markdown",
   "metadata": {},
   "source": [
    "3 - Create a model that given the person metrics (pysc test), gives as output the probability that the person has to be good in each area.\n",
    "This probability will be measured as the distance of this person to the cluster of the best profiles of each area.\n",
    "\n",
    "So, I want a model that uses tha bad, medium and best profiles of each area to create a model that predicts the performance for each area.\n",
    "\n",
    "Should I use a classification for EACH area?"
   ]
  },
  {
   "cell_type": "markdown",
   "metadata": {},
   "source": [
    "check if the performance can be related to a weighting in each data (row) importance for creating what is the \"best\" of this area "
   ]
  },
  {
   "cell_type": "markdown",
   "metadata": {},
   "source": [
    "- the data is inbalanced in relation to each area:\n",
    "\n",
    "Operações:     1713\n",
    "Comercial:    1590\n",
    "Logística:      919\n",
    "Financeiro:      92\n",
    "Pessoas:         80\n",
    "\n",
    "\n",
    "it makes sense to use a 1.Try Resampling Your Dataset or 2.Try Generate Synthetic Samples to make the data more balanced?\n",
    "\n",
    "https://www.kaggle.com/code/jacksonchou/hr-analytics "
   ]
  },
  {
   "cell_type": "markdown",
   "metadata": {},
   "source": [
    "Use more than one model and parameters and test the different results"
   ]
  },
  {
   "cell_type": "markdown",
   "metadata": {},
   "source": [
    "use performance in different semesters as independent information? or use as a mean?\n",
    "\n",
    "plot the variation in performance in the cases that have more than 1 semester"
   ]
  },
  {
   "cell_type": "markdown",
   "metadata": {},
   "source": [
    "https://towardsdatascience.com/a-practical-guide-to-apply-people-analytics-f0d08bc231cc "
   ]
  },
  {
   "cell_type": "markdown",
   "metadata": {},
   "source": [
    "https://towardsdatascience.com/tagged/people-analytics"
   ]
  },
  {
   "cell_type": "markdown",
   "metadata": {},
   "source": []
  }
 ],
 "metadata": {
  "kernelspec": {
   "display_name": "Python 3.6.13 ('python3')",
   "language": "python",
   "name": "python3"
  },
  "language_info": {
   "codemirror_mode": {
    "name": "ipython",
    "version": 3
   },
   "file_extension": ".py",
   "mimetype": "text/x-python",
   "name": "python",
   "nbconvert_exporter": "python",
   "pygments_lexer": "ipython3",
   "version": "3.6.13"
  },
  "orig_nbformat": 4,
  "vscode": {
   "interpreter": {
    "hash": "cb2bbfe96151b3affda237293ce0e4190ec2d328bec4ad4f32e4843d84569a2b"
   }
  }
 },
 "nbformat": 4,
 "nbformat_minor": 2
}
