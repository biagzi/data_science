{
 "cells": [
  {
   "cell_type": "code",
   "execution_count": null,
   "metadata": {},
   "outputs": [],
   "source": [
    "import pandas as pd\n",
    "import seaborn as sns\n",
    "import matplotlib.pyplot as plt\n",
    "from sklearn.impute import KNNImputer\n",
    "from sklearn.preprocessing import StandardScaler\n",
    "from imblearn.over_sampling import SMOTE\n",
    "from imblearn.pipeline import Pipeline as imbpipeline\n",
    "import numpy as np\n",
    "\n"
   ]
  },
  {
   "cell_type": "code",
   "execution_count": null,
   "metadata": {},
   "outputs": [],
   "source": [
    "#defining the pipeline steps for each model\n",
    "\n",
    "def pipeline(model_name):\n",
    "    if model_name == \"randomforestregressor\":\n",
    "        model = RandomForestClassifier(random_state=0)\n",
    "\n",
    "    pipeline = imbpipeline(steps=[\n",
    "        ('imputer', KNNImputer(missing_values=np.nan,n_neighbors = 3)), #transform: solve missing values \n",
    "        ('smote', SMOTE()),                                                #transform: solve umbalanced target\n",
    "        ('scaler', StandardScaler()),                                     #transform: standart normalization of values (mean = 0, std = 1)\n",
    "        ('model',model)  #classifier: constructs a lot of decision trees and uses the class selected by most trees\n",
    "                            ])"
   ]
  }
 ],
 "metadata": {
  "kernelspec": {
   "display_name": "Python 3.6.13 ('python3')",
   "language": "python",
   "name": "python3"
  },
  "language_info": {
   "name": "python",
   "version": "3.6.13"
  },
  "orig_nbformat": 4,
  "vscode": {
   "interpreter": {
    "hash": "cb2bbfe96151b3affda237293ce0e4190ec2d328bec4ad4f32e4843d84569a2b"
   }
  }
 },
 "nbformat": 4,
 "nbformat_minor": 2
}
