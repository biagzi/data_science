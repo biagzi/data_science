{
 "cells": [
  {
   "cell_type": "code",
   "execution_count": null,
   "metadata": {},
   "outputs": [],
   "source": [
    "import pandas as pd\n",
    "import numpy as np\n",
    "import seaborn as sns\n",
    "import matplotlib.pyplot as plt\n",
    "\n",
    "from sklearn.impute import KNNImputer\n",
    "from sklearn.preprocessing import StandardScaler\n",
    "from imblearn.pipeline import Pipeline as imbpipeline\n",
    "\n",
    "from sklearn.model_selection import train_test_split\n",
    "from sklearn.model_selection import GridSearchCV\n",
    "\n",
    "from sklearn.metrics import mean_squared_error\n",
    "\n",
    "from sklearn.ensemble import RandomForestRegressor\n",
    "from sklearn.linear_model import LinearRegression\n",
    "from sklearn.linear_model import Ridge\n",
    "from sklearn.linear_model import Lasso\n",
    "from sklearn.svm import SVR"
   ]
  },
  {
   "cell_type": "code",
   "execution_count": null,
   "metadata": {},
   "outputs": [],
   "source": [
    "def grid_model(model_name):\n",
    "\n",
    "    if model_name == 'rfr':\n",
    "        model = RandomForestRegressor(n_estimators = 10,max_depth=5,random_state=0)\n",
    "\n",
    "        #hypeparameters combination of random forest model to test in the grid search\n",
    "        hyper_params = {\n",
    "        'model__n_estimators': [5,10,20], \n",
    "        'model__max_depth': [3,5,10], \n",
    "        #'model__min_samples_split':[2,6]\n",
    "        }\n",
    "\n",
    "    elif model_name == 'svr':\n",
    "        model = SVR(kernel = 'rbf')\n",
    "\n",
    "    elif model_name == 'lr':\n",
    "        model = LinearRegression()\n",
    "        hyper_params = {\n",
    "        'model__n_jobs': [1,3],   \n",
    "        }\n",
    "    \n",
    "    elif model_name == 'lasso':\n",
    "        model = Lasso(random_state=0, max_iter=50000)\n",
    "        hyper_params = {\n",
    "        'model__alpha': np.logspace(-4, -0.5, 5),   \n",
    "        }\n",
    "\n",
    "    elif model_name == 'ridge':\n",
    "        model = Ridge()\n",
    "        hyper_params = {\n",
    "        'model__alpha': [0.1,1.0],     \n",
    "        }\n",
    "\n",
    "    #defining the pipeline steps for each model\n",
    "    pipeline = imbpipeline(steps=[\n",
    "    ('imputer', KNNImputer(missing_values=np.nan,n_neighbors = 3,add_indicator=False)), #transform: solve missing values \n",
    "    ('scaler', StandardScaler()),                                     #transform: standart normalization of values (mean = 0, std = 1)\n",
    "    ('model',model)  #classifier: constructs a lot of decision trees and uses the class selected by most trees\n",
    "                        ])\n",
    "\n",
    "\n",
    "    # grid search definition\n",
    "    grid = GridSearchCV(\n",
    "        pipeline,\n",
    "        param_grid = hyper_params,\n",
    "        scoring = 'neg_mean_squared_error',   #balance between precision (true positives compared to all the positives) and recall(trues found compared to the total trues)\n",
    "        cv = 5,\n",
    "        n_jobs = 1)\n",
    "\n",
    "    return grid"
   ]
  },
  {
   "cell_type": "code",
   "execution_count": 147,
   "metadata": {},
   "outputs": [
    {
     "name": "stdout",
     "output_type": "stream",
     "text": [
      "rfr\n",
      "model calculated using data of: Comercial\n",
      "model applied in data of: Operações\n",
      "model applied in data of: Logística\n",
      "model applied in data of: Financeiro\n",
      "model applied in data of: Pessoas\n",
      "model applied in data of: Comercial\n",
      "model calculated using data of: Comercial\n",
      "model applied in data of: Operações\n",
      "model applied in data of: Logística\n",
      "model applied in data of: Financeiro\n",
      "model applied in data of: Pessoas\n",
      "model applied in data of: Comercial\n",
      "model calculated using data of: Comercial\n",
      "model applied in data of: Operações\n",
      "model applied in data of: Logística\n",
      "model applied in data of: Financeiro\n",
      "model applied in data of: Pessoas\n",
      "model applied in data of: Comercial\n",
      "model calculated using data of: Comercial\n",
      "model applied in data of: Operações\n",
      "model applied in data of: Logística\n",
      "model applied in data of: Financeiro\n",
      "model applied in data of: Pessoas\n",
      "model applied in data of: Comercial\n",
      "model calculated using data of: Comercial\n",
      "model applied in data of: Operações\n",
      "model applied in data of: Logística\n",
      "model applied in data of: Financeiro\n",
      "model applied in data of: Pessoas\n",
      "model applied in data of: Comercial\n",
      "total model applied in data of: Operações\n",
      "total model applied in data of: Logística\n",
      "total model applied in data of: Financeiro\n",
      "total model applied in data of: Pessoas\n",
      "total model applied in data of: Comercial\n"
     ]
    },
    {
     "name": "stderr",
     "output_type": "stream",
     "text": [
      "/home/renata/anaconda2/envs/python3/lib/python3.6/site-packages/ipykernel_launcher.py:48: SettingWithCopyWarning: \n",
      "A value is trying to be set on a copy of a slice from a DataFrame.\n",
      "Try using .loc[row_indexer,col_indexer] = value instead\n",
      "\n",
      "See the caveats in the documentation: https://pandas.pydata.org/pandas-docs/stable/user_guide/indexing.html#returning-a-view-versus-a-copy\n"
     ]
    }
   ],
   "source": [
    "df_training = pd.read_csv('processed_data/training_data.csv')\n",
    "\n",
    "\n",
    "results = {}\n",
    "for model_name in ['rfr']:#,'lasso','ridge']:\n",
    "    print(model_name)\n",
    "    grid = grid_model(model_name)\n",
    "\n",
    "    for model_of_area in df_training[\"Área\"].unique():\n",
    "        print('model calculated using data of:', area)\n",
    "        y = df_training[df_training.Área == model_of_area].AveragePerformance                        #target prediction\n",
    "        X = df_training[df_training.Área == model_of_area].drop(['AveragePerformance',\"Área\"], axis = 1)\n",
    "\n",
    "        X_train, X_test, y_train, y_test = train_test_split(X,y,test_size = 0.3,random_state = 0)\n",
    "\n",
    "        grid = grid.fit(X_train, y_train)\n",
    "\n",
    "        MAE_modelo = []\n",
    "        modelo_aplicado_em = []\n",
    "        for area in df_training[\"Área\"].unique():\n",
    "            print('model applied in data of:',area)\n",
    "            y = df_training[df_training.Área == area].AveragePerformance                        #target prediction\n",
    "            X = df_training[df_training.Área == area].drop(['AveragePerformance',\"Área\"], axis = 1)\n",
    "\n",
    "            X_train, X_test, y_train, y_test = train_test_split(X,y,test_size = 0.3,random_state = 0)\n",
    "\n",
    "            prediction = grid.predict(X_test)\n",
    "            mse = mean_squared_error(y_test, prediction)\n",
    "\n",
    "            modelo_aplicado_em.append(area)\n",
    "            MAE_modelo.append(round(mse,2))\n",
    "\n",
    "        results[model_of_area] = MAE_modelo\n",
    "    \n",
    "    \n",
    "    y = df_training.AveragePerformance                        #target prediction\n",
    "    X = df_training.drop(['AveragePerformance'], axis = 1)\n",
    "\n",
    "    X_train, X_test, y_train, y_test = train_test_split(X,y,test_size = 0.3,random_state = 0)\n",
    "\n",
    "    X_train_no_Area = X_train.drop(['Área'],axis=1)\n",
    "    grid = grid.fit(X_train_no_Area, y_train)\n",
    "\n",
    "    MAE_modelo = []\n",
    "    for area in df_training[\"Área\"].unique():\n",
    "        print('total model applied in data of:',area)\n",
    "\n",
    "        X_test['AveragePerformance'] = y_test\n",
    "        try:\n",
    "            X_test = X_test.drop(['Unnamed: 0'],axis=1)\n",
    "        except:\n",
    "            pass\n",
    "        X_test_this_area = X_test[X_test.Área == area].drop([\"Área\"], axis = 1)\n",
    "        y_test_this_area = X_test[X_test.Área == area].AveragePerformance \n",
    "\n",
    "        prediction = grid.predict(X_test_this_area)\n",
    "        mse = mean_squared_error(y_test_this_area, prediction)\n",
    "\n",
    "        MAE_modelo.append(round(mse,2))\n",
    "    \n",
    "    results[\"Todas\"] = MAE_modelo\n",
    "\n",
    "results['ModeloAplicadoEm'] = modelo_aplicado_em\n",
    "results = pd.DataFrame(results)\n",
    "results = results.set_index(['ModeloAplicadoEm'])"
   ]
  },
  {
   "cell_type": "code",
   "execution_count": 149,
   "metadata": {},
   "outputs": [
    {
     "data": {
      "text/plain": [
       "Operações     599\n",
       "Comercial     557\n",
       "Logística     214\n",
       "Financeiro     84\n",
       "Pessoas        72\n",
       "Name: Área, dtype: int64"
      ]
     },
     "execution_count": 149,
     "metadata": {},
     "output_type": "execute_result"
    }
   ],
   "source": [
    "df_training.Área.value_counts()"
   ]
  },
  {
   "cell_type": "code",
   "execution_count": 148,
   "metadata": {},
   "outputs": [
    {
     "data": {
      "text/plain": [
       "Text(59.5, 0.5, 'Modelo aplicado em')"
      ]
     },
     "execution_count": 148,
     "metadata": {},
     "output_type": "execute_result"
    },
    {
     "data": {
      "image/png": "[encoded data removed]",
      "text/plain": [
       "<Figure size 648x432 with 2 Axes>"
      ]
     },
     "metadata": {},
     "output_type": "display_data"
    }
   ],
   "source": [
    "sns.set_style(\"whitegrid\")\n",
    "f, ax = plt.subplots(figsize=(9, 6))\n",
    "s = sns.heatmap(results,annot=True, linewidths=.5,cmap=plt.cm.Blues, ax=ax,vmin=0,cbar_kws={\"orientation\": \"horizontal\"})\n",
    "s.set_xlabel('Modelo calculado com', fontsize=12)\n",
    "s.set_ylabel('Modelo aplicado em', fontsize=12)"
   ]
  },
  {
   "cell_type": "code",
   "execution_count": null,
   "metadata": {},
   "outputs": [],
   "source": []
  }
 ],
 "metadata": {
  "kernelspec": {
   "display_name": "Python 3.6.13 ('python3')",
   "language": "python",
   "name": "python3"
  },
  "language_info": {
   "codemirror_mode": {
    "name": "ipython",
    "version": 3
   },
   "file_extension": ".py",
   "mimetype": "text/x-python",
   "name": "python",
   "nbconvert_exporter": "python",
   "pygments_lexer": "ipython3",
   "version": "3.6.13"
  },
  "orig_nbformat": 4,
  "vscode": {
   "interpreter": {
    "hash": "cb2bbfe96151b3affda237293ce0e4190ec2d328bec4ad4f32e4843d84569a2b"
   }
  }
 },
 "nbformat": 4,
 "nbformat_minor": 2
}
