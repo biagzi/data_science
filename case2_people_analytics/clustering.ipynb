{
 "cells": [
  {
   "cell_type": "code",
   "execution_count": 1,
   "metadata": {},
   "outputs": [
    {
     "name": "stderr",
     "output_type": "stream",
     "text": [
      "/home/renata/anaconda2/envs/python3/lib/python3.6/site-packages/sklearn/utils/deprecation.py:143: FutureWarning: The sklearn.utils.testing module is  deprecated in version 0.22 and will be removed in version 0.24. The corresponding classes / functions should instead be imported from sklearn.utils. Anything that cannot be imported from sklearn.utils is now part of the private API.\n",
      "  warnings.warn(message, FutureWarning)\n"
     ]
    }
   ],
   "source": [
    "import numpy as np\n",
    "import matplotlib.pyplot as plt\n",
    "import seaborn as sns\n",
    "sns.set_style(\"ticks\")\n",
    "import pandas as pd\n",
    "pd.options.mode.chained_assignment = None  # default='warn'\n",
    "import math\n",
    "from sklearn.utils.testing import ignore_warnings\n",
    "from sklearn.exceptions import ConvergenceWarning\n",
    "\n",
    "\n",
    "from sklearn.impute import KNNImputer\n",
    "from sklearn.preprocessing import StandardScaler\n",
    "from sklearn.cluster import SpectralClustering\n",
    "from sklearn.cluster import DBSCAN\n",
    "from sklearn.metrics import silhouette_score\n",
    "from sklearn.metrics import calinski_harabasz_score"
   ]
  },
  {
   "cell_type": "markdown",
   "metadata": {},
   "source": [
    "# Prepare"
   ]
  },
  {
   "cell_type": "code",
   "execution_count": 2,
   "metadata": {},
   "outputs": [
    {
     "data": {
      "text/html": [
       "<div>\n",
       "<style scoped>\n",
       "    .dataframe tbody tr th:only-of-type {\n",
       "        vertical-align: middle;\n",
       "    }\n",
       "\n",
       "    .dataframe tbody tr th {\n",
       "        vertical-align: top;\n",
       "    }\n",
       "\n",
       "    .dataframe thead th {\n",
       "        text-align: right;\n",
       "    }\n",
       "</style>\n",
       "<table border=\"1\" class=\"dataframe\">\n",
       "  <thead>\n",
       "    <tr style=\"text-align: right;\">\n",
       "      <th></th>\n",
       "      <th>CPF</th>\n",
       "      <th>Potencial Bruto</th>\n",
       "      <th>Raciocínio</th>\n",
       "      <th>Social</th>\n",
       "      <th>Motivacional</th>\n",
       "      <th>Cultura pontuação</th>\n",
       "      <th>atributo-Capacidade analítica</th>\n",
       "      <th>atributo-Pensamento conceitual</th>\n",
       "      <th>atributo-Reflexão</th>\n",
       "      <th>atributo-Pensamento criativo</th>\n",
       "      <th>...</th>\n",
       "      <th>perfil-Facilitação</th>\n",
       "      <th>perfil-Flexibilidade</th>\n",
       "      <th>perfil-Estabilidade emocional</th>\n",
       "      <th>perfil-Ambição</th>\n",
       "      <th>perfil-Iniciativa</th>\n",
       "      <th>perfil-Assertividade</th>\n",
       "      <th>perfil-Tomada de riscos</th>\n",
       "      <th>Área</th>\n",
       "      <th>AveragePerformance</th>\n",
       "      <th>ModePerformance</th>\n",
       "    </tr>\n",
       "  </thead>\n",
       "  <tbody>\n",
       "    <tr>\n",
       "      <th>0</th>\n",
       "      <td>678.042.935-18</td>\n",
       "      <td>53.65</td>\n",
       "      <td>65.70</td>\n",
       "      <td>37.65</td>\n",
       "      <td>56.75</td>\n",
       "      <td>32.33</td>\n",
       "      <td>59.67</td>\n",
       "      <td>49.44</td>\n",
       "      <td>63.08</td>\n",
       "      <td>56.26</td>\n",
       "      <td>...</td>\n",
       "      <td>41.95</td>\n",
       "      <td>55.59</td>\n",
       "      <td>78.32</td>\n",
       "      <td>60.14</td>\n",
       "      <td>41.95</td>\n",
       "      <td>8.74</td>\n",
       "      <td>55.59</td>\n",
       "      <td>Operações</td>\n",
       "      <td>2.50</td>\n",
       "      <td>2.0</td>\n",
       "    </tr>\n",
       "    <tr>\n",
       "      <th>1</th>\n",
       "      <td>089.324.175-12</td>\n",
       "      <td>NaN</td>\n",
       "      <td>60.78</td>\n",
       "      <td>NaN</td>\n",
       "      <td>NaN</td>\n",
       "      <td>35.13</td>\n",
       "      <td>NaN</td>\n",
       "      <td>NaN</td>\n",
       "      <td>NaN</td>\n",
       "      <td>NaN</td>\n",
       "      <td>...</td>\n",
       "      <td>NaN</td>\n",
       "      <td>NaN</td>\n",
       "      <td>NaN</td>\n",
       "      <td>NaN</td>\n",
       "      <td>NaN</td>\n",
       "      <td>NaN</td>\n",
       "      <td>NaN</td>\n",
       "      <td>Logística</td>\n",
       "      <td>2.00</td>\n",
       "      <td>2.0</td>\n",
       "    </tr>\n",
       "    <tr>\n",
       "      <th>2</th>\n",
       "      <td>587.416.093-11</td>\n",
       "      <td>NaN</td>\n",
       "      <td>NaN</td>\n",
       "      <td>NaN</td>\n",
       "      <td>NaN</td>\n",
       "      <td>NaN</td>\n",
       "      <td>NaN</td>\n",
       "      <td>NaN</td>\n",
       "      <td>NaN</td>\n",
       "      <td>NaN</td>\n",
       "      <td>...</td>\n",
       "      <td>NaN</td>\n",
       "      <td>NaN</td>\n",
       "      <td>NaN</td>\n",
       "      <td>NaN</td>\n",
       "      <td>NaN</td>\n",
       "      <td>NaN</td>\n",
       "      <td>NaN</td>\n",
       "      <td>Financeiro</td>\n",
       "      <td>2.00</td>\n",
       "      <td>2.0</td>\n",
       "    </tr>\n",
       "    <tr>\n",
       "      <th>3</th>\n",
       "      <td>375.410.982-13</td>\n",
       "      <td>22.46</td>\n",
       "      <td>15.71</td>\n",
       "      <td>5.67</td>\n",
       "      <td>56.75</td>\n",
       "      <td>23.36</td>\n",
       "      <td>11.43</td>\n",
       "      <td>18.25</td>\n",
       "      <td>13.14</td>\n",
       "      <td>16.54</td>\n",
       "      <td>...</td>\n",
       "      <td>32.86</td>\n",
       "      <td>46.50</td>\n",
       "      <td>46.50</td>\n",
       "      <td>32.86</td>\n",
       "      <td>51.05</td>\n",
       "      <td>32.86</td>\n",
       "      <td>41.95</td>\n",
       "      <td>Operações</td>\n",
       "      <td>2.75</td>\n",
       "      <td>3.0</td>\n",
       "    </tr>\n",
       "    <tr>\n",
       "      <th>4</th>\n",
       "      <td>652.134.809-42</td>\n",
       "      <td>NaN</td>\n",
       "      <td>56.15</td>\n",
       "      <td>NaN</td>\n",
       "      <td>NaN</td>\n",
       "      <td>62.03</td>\n",
       "      <td>NaN</td>\n",
       "      <td>NaN</td>\n",
       "      <td>NaN</td>\n",
       "      <td>NaN</td>\n",
       "      <td>...</td>\n",
       "      <td>NaN</td>\n",
       "      <td>NaN</td>\n",
       "      <td>NaN</td>\n",
       "      <td>NaN</td>\n",
       "      <td>NaN</td>\n",
       "      <td>NaN</td>\n",
       "      <td>NaN</td>\n",
       "      <td>Pessoas</td>\n",
       "      <td>1.75</td>\n",
       "      <td>1.0</td>\n",
       "    </tr>\n",
       "  </tbody>\n",
       "</table>\n",
       "<p>5 rows × 41 columns</p>\n",
       "</div>"
      ],
      "text/plain": [
       "              CPF  Potencial Bruto  Raciocínio  Social  Motivacional  \\\n",
       "0  678.042.935-18            53.65       65.70   37.65         56.75   \n",
       "1  089.324.175-12              NaN       60.78     NaN           NaN   \n",
       "2  587.416.093-11              NaN         NaN     NaN           NaN   \n",
       "3  375.410.982-13            22.46       15.71    5.67         56.75   \n",
       "4  652.134.809-42              NaN       56.15     NaN           NaN   \n",
       "\n",
       "   Cultura pontuação  atributo-Capacidade analítica  \\\n",
       "0              32.33                          59.67   \n",
       "1              35.13                            NaN   \n",
       "2                NaN                            NaN   \n",
       "3              23.36                          11.43   \n",
       "4              62.03                            NaN   \n",
       "\n",
       "   atributo-Pensamento conceitual  atributo-Reflexão  \\\n",
       "0                           49.44              63.08   \n",
       "1                             NaN                NaN   \n",
       "2                             NaN                NaN   \n",
       "3                           18.25              13.14   \n",
       "4                             NaN                NaN   \n",
       "\n",
       "   atributo-Pensamento criativo  ...  perfil-Facilitação  \\\n",
       "0                         56.26  ...               41.95   \n",
       "1                           NaN  ...                 NaN   \n",
       "2                           NaN  ...                 NaN   \n",
       "3                         16.54  ...               32.86   \n",
       "4                           NaN  ...                 NaN   \n",
       "\n",
       "   perfil-Flexibilidade  perfil-Estabilidade emocional  perfil-Ambição  \\\n",
       "0                 55.59                          78.32           60.14   \n",
       "1                   NaN                            NaN             NaN   \n",
       "2                   NaN                            NaN             NaN   \n",
       "3                 46.50                          46.50           32.86   \n",
       "4                   NaN                            NaN             NaN   \n",
       "\n",
       "   perfil-Iniciativa  perfil-Assertividade  perfil-Tomada de riscos  \\\n",
       "0              41.95                  8.74                    55.59   \n",
       "1                NaN                   NaN                      NaN   \n",
       "2                NaN                   NaN                      NaN   \n",
       "3              51.05                 32.86                    41.95   \n",
       "4                NaN                   NaN                      NaN   \n",
       "\n",
       "         Área  AveragePerformance  ModePerformance  \n",
       "0   Operações                2.50              2.0  \n",
       "1   Logística                2.00              2.0  \n",
       "2  Financeiro                2.00              2.0  \n",
       "3   Operações                2.75              3.0  \n",
       "4     Pessoas                1.75              1.0  \n",
       "\n",
       "[5 rows x 41 columns]"
      ]
     },
     "execution_count": 2,
     "metadata": {},
     "output_type": "execute_result"
    }
   ],
   "source": [
    "df = pd.read_csv('processed_data/all_data.csv')\n",
    "df.head()"
   ]
  },
  {
   "cell_type": "code",
   "execution_count": 3,
   "metadata": {},
   "outputs": [
    {
     "name": "stdout",
     "output_type": "stream",
     "text": [
      "<class 'pandas.core.frame.DataFrame'>\n",
      "RangeIndex: 2269 entries, 0 to 2268\n",
      "Data columns (total 41 columns):\n",
      " #   Column                               Non-Null Count  Dtype  \n",
      "---  ------                               --------------  -----  \n",
      " 0   CPF                                  2269 non-null   object \n",
      " 1   Potencial Bruto                      506 non-null    float64\n",
      " 2   Raciocínio                           1703 non-null   float64\n",
      " 3   Social                               533 non-null    float64\n",
      " 4   Motivacional                         524 non-null    float64\n",
      " 5   Cultura pontuação                    1753 non-null   float64\n",
      " 6   atributo-Capacidade analítica        500 non-null    float64\n",
      " 7   atributo-Pensamento conceitual       500 non-null    float64\n",
      " 8   atributo-Reflexão                    500 non-null    float64\n",
      " 9   atributo-Pensamento criativo         500 non-null    float64\n",
      " 10  atributo-Planejamento e organização  500 non-null    float64\n",
      " 11  atributo-Comunicação                 500 non-null    float64\n",
      " 12  atributo-Consideração pelos outros   500 non-null    float64\n",
      " 13  atributo-Influência                  500 non-null    float64\n",
      " 14  atributo-Sociabilidade               500 non-null    float64\n",
      " 15  atributo-Facilitação                 500 non-null    float64\n",
      " 16  atributo-Flexibilidade               500 non-null    float64\n",
      " 17  atributo-Estabilidade emocional      500 non-null    float64\n",
      " 18  atributo-Ambição                     500 non-null    float64\n",
      " 19  atributo-Iniciativa                  500 non-null    float64\n",
      " 20  atributo-Assertividade               500 non-null    float64\n",
      " 21  atributo-Tomada de riscos            500 non-null    float64\n",
      " 22  perfil-Capacidade analítica          551 non-null    float64\n",
      " 23  perfil-Pensamento conceitual         551 non-null    float64\n",
      " 24  perfil-Reflexão                      551 non-null    float64\n",
      " 25  perfil-Pensamento criativo           551 non-null    float64\n",
      " 26  perfil-Planejamento e organização    551 non-null    float64\n",
      " 27  perfil-Comunicação                   551 non-null    float64\n",
      " 28  perfil-Consideração pelos outros     551 non-null    float64\n",
      " 29  perfil-Influência                    551 non-null    float64\n",
      " 30  perfil-Sociabilidade                 551 non-null    float64\n",
      " 31  perfil-Facilitação                   551 non-null    float64\n",
      " 32  perfil-Flexibilidade                 551 non-null    float64\n",
      " 33  perfil-Estabilidade emocional        551 non-null    float64\n",
      " 34  perfil-Ambição                       551 non-null    float64\n",
      " 35  perfil-Iniciativa                    551 non-null    float64\n",
      " 36  perfil-Assertividade                 551 non-null    float64\n",
      " 37  perfil-Tomada de riscos              551 non-null    float64\n",
      " 38  Área                                 2269 non-null   object \n",
      " 39  AveragePerformance                   1526 non-null   float64\n",
      " 40  ModePerformance                      1526 non-null   float64\n",
      "dtypes: float64(39), object(2)\n",
      "memory usage: 726.9+ KB\n"
     ]
    }
   ],
   "source": [
    "df.info()"
   ]
  },
  {
   "cell_type": "code",
   "execution_count": 4,
   "metadata": {},
   "outputs": [
    {
     "data": {
      "text/plain": [
       "Index(['CPF', 'Potencial Bruto', 'Raciocínio', 'Social', 'Motivacional',\n",
       "       'Cultura pontuação', 'atributo-Capacidade analítica',\n",
       "       'atributo-Pensamento conceitual', 'atributo-Reflexão',\n",
       "       'atributo-Pensamento criativo', 'atributo-Planejamento e organização',\n",
       "       'atributo-Comunicação', 'atributo-Consideração pelos outros',\n",
       "       'atributo-Influência', 'atributo-Sociabilidade', 'atributo-Facilitação',\n",
       "       'atributo-Flexibilidade', 'atributo-Estabilidade emocional',\n",
       "       'atributo-Ambição', 'atributo-Iniciativa', 'atributo-Assertividade',\n",
       "       'atributo-Tomada de riscos', 'perfil-Capacidade analítica',\n",
       "       'perfil-Pensamento conceitual', 'perfil-Reflexão',\n",
       "       'perfil-Pensamento criativo', 'perfil-Planejamento e organização',\n",
       "       'perfil-Comunicação', 'perfil-Consideração pelos outros',\n",
       "       'perfil-Influência', 'perfil-Sociabilidade', 'perfil-Facilitação',\n",
       "       'perfil-Flexibilidade', 'perfil-Estabilidade emocional',\n",
       "       'perfil-Ambição', 'perfil-Iniciativa', 'perfil-Assertividade',\n",
       "       'perfil-Tomada de riscos', 'Área', 'AveragePerformance',\n",
       "       'ModePerformance'],\n",
       "      dtype='object')"
      ]
     },
     "execution_count": 4,
     "metadata": {},
     "output_type": "execute_result"
    }
   ],
   "source": [
    "df.columns"
   ]
  },
  {
   "cell_type": "markdown",
   "metadata": {},
   "source": [
    "# Functions"
   ]
  },
  {
   "cell_type": "code",
   "execution_count": 5,
   "metadata": {},
   "outputs": [],
   "source": [
    "\n",
    "\n",
    "def SpecCluster(X,n_cluster_list=[2,10,15,20,30,50]):\n",
    "    for n_cluster in n_cluster_list:\n",
    "        spec_c = SpectralClustering(n_clusters=n_cluster,eigen_solver='arpack',n_init=10,\n",
    "                        assign_labels='kmeans',random_state=0).fit(X)\n",
    "        score = silhouette_score(X, spec_c.labels_, metric='euclidean')\n",
    "\n",
    "        unique, counts = np.unique(spec_c.labels_, return_counts=True)\n",
    "\n",
    "        print('Finished n_cluster = ',n_cluster,'. Number of points on clusters:',counts,'. Score:',round(score,2))\n",
    "\n",
    "    return\n",
    "\n",
    "def DBSCANCluster(X,min_samples_list = [50,100,200],eps_list = [1,1.005,1.01,1.02,1.03,1.04,1.05,1.09,1.1]):\n",
    "    for min_samples in min_samples_list:\n",
    "        for eps in eps_list:\n",
    "            db = DBSCAN(min_samples = min_samples,eps=eps).fit(X)\n",
    "            try:\n",
    "                silhou = silhouette_score(X, db.labels_, metric='euclidean')\n",
    "                calins = calinski_harabasz_score(X, db.labels_)\n",
    "                if len([x for x in set(db.labels_) if x >=0]) > 2 and silhou > 0:\n",
    "                    print('Params {0}-{1} has {2} clusters and scores silouh = {3} and calins = {4}'.format(min_samples,eps,len([x for x in set(db.labels_) if x >=0]),round(silhou,2),round(calins,0)))\n",
    "            except:\n",
    "                print('Params {0}-{1} has {2} clusters'.format(min_samples,eps,len([x for x in set(db.labels_) if x >=0])))\n",
    "\n",
    "    return\n",
    "\n",
    "def clusters_metrics(X):\n",
    "    all = {'Cluster':[],'Área':[],'AvgPerformanceDist':[]}\n",
    "    cluster_metrics = {'Cluster':[],'Social'}\n",
    "    for label in sorted(X['labels'].unique()):\n",
    "        X_this_label = X[X['labels']==label]\n",
    "\n",
    "        for area in X_this_label['Área'].unique():\n",
    "            X_this_label_each_area = X_this_label[X_this_label['Área'] == area]\n",
    "            labels.append(label)\n",
    "            areas.append(area)\n",
    "            number.append(len(X_this_label_each_area))\n",
    "            means.append(round(np.mean(X_this_label_each_area['AveragePerformance']),1))\n",
    "            stds.append(round(np.std(X_this_label_each_area['AveragePerformance']),1))\n",
    "            per25.append(round(np.nanpercentile(X_this_label_each_area['AveragePerformance'],25),1))\n",
    "            per50.append(round(np.nanpercentile(X_this_label_each_area['AveragePerformance'],50),1))\n",
    "            per75.append(round(np.nanpercentile(X_this_label_each_area['AveragePerformance'],75),1))\n",
    "            all['Cluster'].extend([str(label)]*len(X_this_label_each_area['AveragePerformance']))\n",
    "            all['Área'].extend([area]*len(X_this_label_each_area['AveragePerformance']))\n",
    "            all['AvgPerformanceDist'].extend(X_this_label_each_area['AveragePerformance'])\n",
    "\n",
    "    # pd.DataFrame({'Cluster':labels,'Área':areas,'Number':number,'Mean':means,\n",
    "    # 'Std':stds,'25Percentil':per25,'50Percentil':per50,'75Percentil':per75}), \n",
    "    df_results = pd.DataFrame(all)\n",
    "    sns.boxplot(y=df_results['AvgPerformanceDist'],x=df_results['Cluster'],hue=df_results['Área'])\n",
    "    plt.legend(bbox_to_anchor=(1.05, 1), loc=2, borderaxespad=0.)\n",
    "\n",
    "    return \n",
    "    "
   ]
  },
  {
   "cell_type": "markdown",
   "metadata": {},
   "source": [
    "### Just main variables with KNN imputation"
   ]
  },
  {
   "cell_type": "code",
   "execution_count": 6,
   "metadata": {},
   "outputs": [],
   "source": [
    "%%capture\n",
    "X = df[['Raciocínio','Social','Motivacional','Cultura pontuação']]\n",
    "X[:] = KNNImputer(missing_values=np.nan,n_neighbors = 5,add_indicator=False).fit_transform(X)\n",
    "X[:] = StandardScaler().fit_transform(X)"
   ]
  },
  {
   "cell_type": "code",
   "execution_count": 7,
   "metadata": {},
   "outputs": [
    {
     "name": "stdout",
     "output_type": "stream",
     "text": [
      "Params 4-0.65 has 4 clusters and scores silouh = 0.01 and calins = 10.0\n",
      "Params 4-0.7 has 3 clusters and scores silouh = 0.16 and calins = 9.0\n",
      "Params 4-0.75 has 3 clusters and scores silouh = 0.16 and calins = 9.0\n",
      "Params 4-0.8 has 4 clusters and scores silouh = 0.1 and calins = 9.0\n",
      "Params 5-0.7 has 3 clusters and scores silouh = 0.05 and calins = 8.0\n",
      "Params 7-0.65 has 4 clusters and scores silouh = 0.05 and calins = 13.0\n",
      "Params 7-0.7 has 3 clusters and scores silouh = 0.09 and calins = 9.0\n",
      "Params 8-0.6 has 3 clusters and scores silouh = 0.02 and calins = 14.0\n",
      "Params 10-0.6 has 3 clusters and scores silouh = 0.01 and calins = 18.0\n",
      "Params 10-0.7 has 3 clusters and scores silouh = 0.04 and calins = 14.0\n"
     ]
    }
   ],
   "source": [
    "DBSCANCluster(X,min_samples_list = [4,5,6,7,8,10,50],eps_list = [0.1,0.2,0.3,0.4,0.5,0.55,0.6,0.65,0.7,0.75,0.8,1,1.1])"
   ]
  },
  {
   "cell_type": "code",
   "execution_count": 8,
   "metadata": {},
   "outputs": [
    {
     "name": "stdout",
     "output_type": "stream",
     "text": [
      "Finished n_cluster =  2 . Number of points on clusters: [1927  342] . Score: 0.31\n",
      "Finished n_cluster =  3 . Number of points on clusters: [ 310 1767  192] . Score: 0.27\n",
      "Finished n_cluster =  4 . Number of points on clusters: [2033    5  227    4] . Score: 0.31\n",
      "Finished n_cluster =  5 . Number of points on clusters: [   4    2 2257    5    1] . Score: 0.31\n",
      "Finished n_cluster =  6 . Number of points on clusters: [2219    2    7   16   24    1] . Score: 0.3\n",
      "Finished n_cluster =  7 . Number of points on clusters: [  22    7    1 2215   16    2    6] . Score: 0.29\n",
      "Finished n_cluster =  8 . Number of points on clusters: [2217    4    2   16    5    3    1   21] . Score: 0.28\n",
      "Finished n_cluster =  9 . Number of points on clusters: [  44    2    3   13    8 2177   17    1    4] . Score: 0.28\n",
      "Finished n_cluster =  10 . Number of points on clusters: [  31    2    2    7    8    5 2183    5   16   10] . Score: 0.24\n",
      "Finished n_cluster =  15 . Number of points on clusters: [  17    2    7    2    5    2    2    3    6   12   11   13    4 2176\n",
      "    7] . Score: 0.2\n"
     ]
    }
   ],
   "source": [
    "SpecCluster(X,n_cluster_list=[2,3,4,5,6,7,8,9,10,15])"
   ]
  },
  {
   "cell_type": "code",
   "execution_count": 9,
   "metadata": {},
   "outputs": [
    {
     "name": "stdout",
     "output_type": "stream",
     "text": [
      "310 0\n",
      "1767 1\n",
      "192 2\n"
     ]
    }
   ],
   "source": [
    "#Choose what number of clusters to use (based on score + distribution)\n",
    "NUMBER_OF_CLUSTERS = 3\n",
    "spec_c_choice = SpectralClustering(n_clusters=NUMBER_OF_CLUSTERS,eigen_solver='arpack',n_init=10,\n",
    "                        assign_labels='kmeans',random_state=0).fit(X)\n",
    "X['labels'] = spec_c_choice.labels_\n",
    "for cluster_label in sorted(X['labels'].unique()):\n",
    "    print(len(X[X['labels'] == cluster_label]),cluster_label)"
   ]
  },
  {
   "cell_type": "code",
   "execution_count": 10,
   "metadata": {},
   "outputs": [
    {
     "data": {
      "image/png": "[encoded data removed]",
      "text/plain": [
       "<Figure size 432x288 with 1 Axes>"
      ]
     },
     "metadata": {
      "needs_background": "light"
     },
     "output_type": "display_data"
    }
   ],
   "source": [
    "clusters_metrics(X.join(df[['Área','AveragePerformance']]))"
   ]
  },
  {
   "cell_type": "markdown",
   "metadata": {},
   "source": [
    "#### Nested clustering: do cluster inside the big cluster"
   ]
  },
  {
   "cell_type": "code",
   "execution_count": 11,
   "metadata": {},
   "outputs": [],
   "source": [
    "%%capture\n",
    "def nested_cluster(X,label,n_cluster_list=[2,3,4,5,6,7,8,9,10], CHOICE = 0):\n",
    "    X_nested = X[X['labels'] == label]\n",
    "    X_nested[:] = StandardScaler().fit_transform(X_nested)\n",
    "    if CHOICE == 0:\n",
    "        SpecCluster(X_nested,n_cluster_list)\n",
    "        return\n",
    "    else:\n",
    "        spec_c_choice = SpectralClustering(n_clusters=CHOICE,eigen_solver='arpack',n_init=10,\n",
    "                        assign_labels='kmeans',random_state=0).fit(X_nested)\n",
    "        X_nested['labels'] = spec_c_choice.labels_\n",
    "        for cluster_label in sorted(X_nested['labels'].unique()):\n",
    "            print(len(X_nested[X_nested['labels'] == cluster_label]),cluster_label)\n",
    "        return X_nested"
   ]
  },
  {
   "cell_type": "code",
   "execution_count": 12,
   "metadata": {},
   "outputs": [
    {
     "name": "stdout",
     "output_type": "stream",
     "text": [
      "Finished n_cluster =  2 . Number of points on clusters: [1303  464] . Score: 0.28\n",
      "Finished n_cluster =  3 . Number of points on clusters: [ 401 1110  256] . Score: 0.26\n",
      "Finished n_cluster =  4 . Number of points on clusters: [989 257 140 381] . Score: 0.26\n",
      "Finished n_cluster =  5 . Number of points on clusters: [ 132 1024  117  224  270] . Score: 0.28\n",
      "Finished n_cluster =  6 . Number of points on clusters: [1232   90   18  131  123  173] . Score: 0.25\n",
      "Finished n_cluster =  7 . Number of points on clusters: [  56 1276   92   15  121  130   77] . Score: 0.23\n",
      "Finished n_cluster =  8 . Number of points on clusters: [ 116 1310   45   72   17  125   79    3] . Score: 0.22\n",
      "Finished n_cluster =  9 . Number of points on clusters: [  73   70   46   14  125    6 1278   63   92] . Score: 0.23\n",
      "Finished n_cluster =  10 . Number of points on clusters: [  80    3 1353    6   11   61   71   16  126   40] . Score: 0.21\n"
     ]
    }
   ],
   "source": [
    "#Choose the CLUSTER LABEL THAT WILL BE NESTED CLUSTERED\n",
    "NEXT_NESTED_CLUSTER_LABEL = 1\n",
    "X_nested = nested_cluster(X,NEXT_NESTED_CLUSTER_LABEL)"
   ]
  },
  {
   "cell_type": "code",
   "execution_count": 13,
   "metadata": {},
   "outputs": [
    {
     "name": "stdout",
     "output_type": "stream",
     "text": [
      "132 0\n",
      "1024 1\n",
      "117 2\n",
      "224 3\n",
      "270 4\n"
     ]
    }
   ],
   "source": [
    "#Choose what number of clusters to use (based on score + distribution)\n",
    "NUMBER_OF_CLUSTERS = 5\n",
    "X_nested = nested_cluster(X,NEXT_NESTED_CLUSTER_LABEL,CHOICE=NUMBER_OF_CLUSTERS)"
   ]
  },
  {
   "cell_type": "code",
   "execution_count": 14,
   "metadata": {},
   "outputs": [
    {
     "data": {
      "image/png": "[encoded data removed]",
      "text/plain": [
       "<Figure size 432x288 with 1 Axes>"
      ]
     },
     "metadata": {
      "needs_background": "light"
     },
     "output_type": "display_data"
    }
   ],
   "source": [
    "clusters_metrics(X_nested.join(df[['Área','AveragePerformance']]))"
   ]
  },
  {
   "cell_type": "code",
   "execution_count": 15,
   "metadata": {},
   "outputs": [
    {
     "name": "stdout",
     "output_type": "stream",
     "text": [
      "Finished n_cluster =  2 . Number of points on clusters: [968  56] . Score: 0.42\n",
      "Finished n_cluster =  3 . Number of points on clusters: [ 73 895  56] . Score: 0.41\n",
      "Finished n_cluster =  4 . Number of points on clusters: [897   4  50  73] . Score: 0.39\n",
      "Finished n_cluster =  5 . Number of points on clusters: [909  59   4   2  50] . Score: 0.36\n",
      "Finished n_cluster =  6 . Number of points on clusters: [ 83   2  62   4  49 824] . Score: 0.39\n",
      "Finished n_cluster =  7 . Number of points on clusters: [835   2   4  50  54   2  77] . Score: 0.36\n",
      "Finished n_cluster =  8 . Number of points on clusters: [867   2   4   4   2  50  38  57] . Score: 0.34\n",
      "Finished n_cluster =  9 . Number of points on clusters: [854   2   4  49  38  45  26   4   2] . Score: 0.34\n",
      "Finished n_cluster =  10 . Number of points on clusters: [862   2   4  15   2   4  45  30  22  38] . Score: 0.33\n"
     ]
    }
   ],
   "source": [
    "#Choose the CLUSTER LABEL THAT WILL BE NESTED CLUSTERED\n",
    "NEXT_NESTED_CLUSTER_LABEL = 1\n",
    "nested_cluster(X_nested,NEXT_NESTED_CLUSTER_LABEL)"
   ]
  },
  {
   "cell_type": "code",
   "execution_count": 16,
   "metadata": {},
   "outputs": [
    {
     "name": "stdout",
     "output_type": "stream",
     "text": [
      "895 0\n",
      "56 1\n",
      "73 2\n"
     ]
    },
    {
     "data": {
      "image/png": "[encoded data removed]",
      "text/plain": [
       "<Figure size 432x288 with 1 Axes>"
      ]
     },
     "metadata": {
      "needs_background": "light"
     },
     "output_type": "display_data"
    }
   ],
   "source": [
    "#Choose what number of clusters to use (based on score + distribution)\n",
    "NUMBER_OF_CLUSTERS = 3\n",
    "X_nested_nested = nested_cluster(X_nested,NEXT_NESTED_CLUSTER_LABEL,CHOICE=NUMBER_OF_CLUSTERS)\n",
    "clusters_metrics(X_nested_nested.join(df[['Área','AveragePerformance']]))"
   ]
  },
  {
   "cell_type": "code",
   "execution_count": 17,
   "metadata": {},
   "outputs": [
    {
     "name": "stdout",
     "output_type": "stream",
     "text": [
      "Finished n_cluster =  2 . Number of points on clusters: [799  96] . Score: 0.47\n",
      "Finished n_cluster =  3 . Number of points on clusters: [644  83 168] . Score: 0.44\n",
      "Finished n_cluster =  4 . Number of points on clusters: [173 623   4  95] . Score: 0.44\n",
      "Finished n_cluster =  5 . Number of points on clusters: [683  53   4 131  24] . Score: 0.42\n",
      "Finished n_cluster =  6 . Number of points on clusters: [684  70   4  16  32  89] . Score: 0.43\n",
      "Finished n_cluster =  7 . Number of points on clusters: [694   4   8  15  64  26  84] . Score: 0.41\n",
      "Finished n_cluster =  8 . Number of points on clusters: [699   4  15  83  24  14  48   8] . Score: 0.41\n",
      "Finished n_cluster =  9 . Number of points on clusters: [633   7   4  13  48  15  23  69  83] . Score: 0.46\n",
      "Finished n_cluster =  10 . Number of points on clusters: [ 72 623   4   7  13  23  15  19  47  72] . Score: 0.46\n"
     ]
    }
   ],
   "source": [
    "#Choose the CLUSTER LABEL THAT WILL BE NESTED CLUSTERED\n",
    "NEXT_NESTED_CLUSTER_LABEL = 0\n",
    "nested_cluster(X_nested_nested,NEXT_NESTED_CLUSTER_LABEL)"
   ]
  },
  {
   "cell_type": "code",
   "execution_count": 18,
   "metadata": {},
   "outputs": [
    {
     "name": "stdout",
     "output_type": "stream",
     "text": [
      "644 0\n",
      "83 1\n",
      "168 2\n"
     ]
    },
    {
     "data": {
      "image/png": "[encoded data removed]",
      "text/plain": [
       "<Figure size 432x288 with 1 Axes>"
      ]
     },
     "metadata": {
      "needs_background": "light"
     },
     "output_type": "display_data"
    }
   ],
   "source": [
    "#Choose what number of clusters to use (based on score + distribution)\n",
    "NUMBER_OF_CLUSTERS = 3\n",
    "X_nested_nested_nested = nested_cluster(X_nested_nested,NEXT_NESTED_CLUSTER_LABEL,CHOICE=NUMBER_OF_CLUSTERS)\n",
    "clusters_metrics(X_nested_nested_nested.join(df[['Área','AveragePerformance']]))"
   ]
  },
  {
   "cell_type": "markdown",
   "metadata": {},
   "source": [
    "### Big number of variables, just rows without Nan"
   ]
  },
  {
   "cell_type": "code",
   "execution_count": 19,
   "metadata": {},
   "outputs": [],
   "source": [
    "features_atributo = ['atributo-Capacidade analítica',\n",
    "       'atributo-Pensamento conceitual', 'atributo-Reflexão',\n",
    "       'atributo-Pensamento criativo', 'atributo-Planejamento e organização',\n",
    "       'atributo-Comunicação', 'atributo-Consideração pelos outros',\n",
    "       'atributo-Influência', 'atributo-Sociabilidade', 'atributo-Facilitação',\n",
    "       'atributo-Flexibilidade', 'atributo-Estabilidade emocional',\n",
    "       'atributo-Ambição', 'atributo-Iniciativa', 'atributo-Assertividade',\n",
    "       'atributo-Tomada de riscos','Área','AveragePerformance']\n",
    "\n",
    "features_perfil = ['perfil-Capacidade analítica',\n",
    "       'perfil-Pensamento conceitual', 'perfil-Reflexão',\n",
    "       'perfil-Pensamento criativo', 'perfil-Planejamento e organização',\n",
    "       'perfil-Comunicação', 'perfil-Consideração pelos outros',\n",
    "       'perfil-Influência', 'perfil-Sociabilidade', 'perfil-Facilitação',\n",
    "       'perfil-Flexibilidade', 'perfil-Estabilidade emocional',\n",
    "       'perfil-Ambição', 'perfil-Iniciativa', 'perfil-Assertividade',\n",
    "       'perfil-Tomada de riscos','Área','AveragePerformance']\n",
    "\n"
   ]
  },
  {
   "cell_type": "code",
   "execution_count": 20,
   "metadata": {},
   "outputs": [
    {
     "data": {
      "text/html": [
       "<div>\n",
       "<style scoped>\n",
       "    .dataframe tbody tr th:only-of-type {\n",
       "        vertical-align: middle;\n",
       "    }\n",
       "\n",
       "    .dataframe tbody tr th {\n",
       "        vertical-align: top;\n",
       "    }\n",
       "\n",
       "    .dataframe thead th {\n",
       "        text-align: right;\n",
       "    }\n",
       "</style>\n",
       "<table border=\"1\" class=\"dataframe\">\n",
       "  <thead>\n",
       "    <tr style=\"text-align: right;\">\n",
       "      <th></th>\n",
       "      <th>perfil-Capacidade analítica</th>\n",
       "      <th>perfil-Pensamento conceitual</th>\n",
       "      <th>perfil-Reflexão</th>\n",
       "      <th>perfil-Pensamento criativo</th>\n",
       "      <th>perfil-Planejamento e organização</th>\n",
       "      <th>perfil-Comunicação</th>\n",
       "      <th>perfil-Consideração pelos outros</th>\n",
       "      <th>perfil-Influência</th>\n",
       "      <th>perfil-Sociabilidade</th>\n",
       "      <th>perfil-Facilitação</th>\n",
       "      <th>perfil-Flexibilidade</th>\n",
       "      <th>perfil-Estabilidade emocional</th>\n",
       "      <th>perfil-Ambição</th>\n",
       "      <th>perfil-Iniciativa</th>\n",
       "      <th>perfil-Assertividade</th>\n",
       "      <th>perfil-Tomada de riscos</th>\n",
       "      <th>Área</th>\n",
       "      <th>AveragePerformance</th>\n",
       "    </tr>\n",
       "  </thead>\n",
       "  <tbody>\n",
       "    <tr>\n",
       "      <th>0</th>\n",
       "      <td>41.95</td>\n",
       "      <td>28.32</td>\n",
       "      <td>46.50</td>\n",
       "      <td>37.41</td>\n",
       "      <td>32.86</td>\n",
       "      <td>78.32</td>\n",
       "      <td>60.14</td>\n",
       "      <td>19.23</td>\n",
       "      <td>23.77</td>\n",
       "      <td>41.95</td>\n",
       "      <td>55.59</td>\n",
       "      <td>78.32</td>\n",
       "      <td>60.14</td>\n",
       "      <td>41.95</td>\n",
       "      <td>8.74</td>\n",
       "      <td>55.59</td>\n",
       "      <td>Operações</td>\n",
       "      <td>2.50</td>\n",
       "    </tr>\n",
       "    <tr>\n",
       "      <th>1</th>\n",
       "      <td>NaN</td>\n",
       "      <td>NaN</td>\n",
       "      <td>NaN</td>\n",
       "      <td>NaN</td>\n",
       "      <td>NaN</td>\n",
       "      <td>NaN</td>\n",
       "      <td>NaN</td>\n",
       "      <td>NaN</td>\n",
       "      <td>NaN</td>\n",
       "      <td>NaN</td>\n",
       "      <td>NaN</td>\n",
       "      <td>NaN</td>\n",
       "      <td>NaN</td>\n",
       "      <td>NaN</td>\n",
       "      <td>NaN</td>\n",
       "      <td>NaN</td>\n",
       "      <td>Logística</td>\n",
       "      <td>2.00</td>\n",
       "    </tr>\n",
       "    <tr>\n",
       "      <th>2</th>\n",
       "      <td>NaN</td>\n",
       "      <td>NaN</td>\n",
       "      <td>NaN</td>\n",
       "      <td>NaN</td>\n",
       "      <td>NaN</td>\n",
       "      <td>NaN</td>\n",
       "      <td>NaN</td>\n",
       "      <td>NaN</td>\n",
       "      <td>NaN</td>\n",
       "      <td>NaN</td>\n",
       "      <td>NaN</td>\n",
       "      <td>NaN</td>\n",
       "      <td>NaN</td>\n",
       "      <td>NaN</td>\n",
       "      <td>NaN</td>\n",
       "      <td>NaN</td>\n",
       "      <td>Financeiro</td>\n",
       "      <td>2.00</td>\n",
       "    </tr>\n",
       "    <tr>\n",
       "      <th>3</th>\n",
       "      <td>32.86</td>\n",
       "      <td>51.05</td>\n",
       "      <td>37.41</td>\n",
       "      <td>46.50</td>\n",
       "      <td>78.32</td>\n",
       "      <td>78.32</td>\n",
       "      <td>37.41</td>\n",
       "      <td>73.77</td>\n",
       "      <td>91.86</td>\n",
       "      <td>32.86</td>\n",
       "      <td>46.50</td>\n",
       "      <td>46.50</td>\n",
       "      <td>32.86</td>\n",
       "      <td>51.05</td>\n",
       "      <td>32.86</td>\n",
       "      <td>41.95</td>\n",
       "      <td>Operações</td>\n",
       "      <td>2.75</td>\n",
       "    </tr>\n",
       "    <tr>\n",
       "      <th>4</th>\n",
       "      <td>NaN</td>\n",
       "      <td>NaN</td>\n",
       "      <td>NaN</td>\n",
       "      <td>NaN</td>\n",
       "      <td>NaN</td>\n",
       "      <td>NaN</td>\n",
       "      <td>NaN</td>\n",
       "      <td>NaN</td>\n",
       "      <td>NaN</td>\n",
       "      <td>NaN</td>\n",
       "      <td>NaN</td>\n",
       "      <td>NaN</td>\n",
       "      <td>NaN</td>\n",
       "      <td>NaN</td>\n",
       "      <td>NaN</td>\n",
       "      <td>NaN</td>\n",
       "      <td>Pessoas</td>\n",
       "      <td>1.75</td>\n",
       "    </tr>\n",
       "    <tr>\n",
       "      <th>...</th>\n",
       "      <td>...</td>\n",
       "      <td>...</td>\n",
       "      <td>...</td>\n",
       "      <td>...</td>\n",
       "      <td>...</td>\n",
       "      <td>...</td>\n",
       "      <td>...</td>\n",
       "      <td>...</td>\n",
       "      <td>...</td>\n",
       "      <td>...</td>\n",
       "      <td>...</td>\n",
       "      <td>...</td>\n",
       "      <td>...</td>\n",
       "      <td>...</td>\n",
       "      <td>...</td>\n",
       "      <td>...</td>\n",
       "      <td>...</td>\n",
       "      <td>...</td>\n",
       "    </tr>\n",
       "    <tr>\n",
       "      <th>2264</th>\n",
       "      <td>64.68</td>\n",
       "      <td>60.14</td>\n",
       "      <td>46.50</td>\n",
       "      <td>55.59</td>\n",
       "      <td>64.68</td>\n",
       "      <td>28.32</td>\n",
       "      <td>46.50</td>\n",
       "      <td>78.32</td>\n",
       "      <td>69.23</td>\n",
       "      <td>37.41</td>\n",
       "      <td>28.32</td>\n",
       "      <td>73.77</td>\n",
       "      <td>69.23</td>\n",
       "      <td>37.41</td>\n",
       "      <td>37.41</td>\n",
       "      <td>37.41</td>\n",
       "      <td>Logística</td>\n",
       "      <td>2.50</td>\n",
       "    </tr>\n",
       "    <tr>\n",
       "      <th>2265</th>\n",
       "      <td>NaN</td>\n",
       "      <td>NaN</td>\n",
       "      <td>NaN</td>\n",
       "      <td>NaN</td>\n",
       "      <td>NaN</td>\n",
       "      <td>NaN</td>\n",
       "      <td>NaN</td>\n",
       "      <td>NaN</td>\n",
       "      <td>NaN</td>\n",
       "      <td>NaN</td>\n",
       "      <td>NaN</td>\n",
       "      <td>NaN</td>\n",
       "      <td>NaN</td>\n",
       "      <td>NaN</td>\n",
       "      <td>NaN</td>\n",
       "      <td>NaN</td>\n",
       "      <td>Logística</td>\n",
       "      <td>3.00</td>\n",
       "    </tr>\n",
       "    <tr>\n",
       "      <th>2266</th>\n",
       "      <td>NaN</td>\n",
       "      <td>NaN</td>\n",
       "      <td>NaN</td>\n",
       "      <td>NaN</td>\n",
       "      <td>NaN</td>\n",
       "      <td>NaN</td>\n",
       "      <td>NaN</td>\n",
       "      <td>NaN</td>\n",
       "      <td>NaN</td>\n",
       "      <td>NaN</td>\n",
       "      <td>NaN</td>\n",
       "      <td>NaN</td>\n",
       "      <td>NaN</td>\n",
       "      <td>NaN</td>\n",
       "      <td>NaN</td>\n",
       "      <td>NaN</td>\n",
       "      <td>Operações</td>\n",
       "      <td>2.00</td>\n",
       "    </tr>\n",
       "    <tr>\n",
       "      <th>2267</th>\n",
       "      <td>37.41</td>\n",
       "      <td>51.05</td>\n",
       "      <td>69.23</td>\n",
       "      <td>32.86</td>\n",
       "      <td>60.14</td>\n",
       "      <td>23.77</td>\n",
       "      <td>46.50</td>\n",
       "      <td>41.95</td>\n",
       "      <td>64.68</td>\n",
       "      <td>46.50</td>\n",
       "      <td>55.59</td>\n",
       "      <td>51.05</td>\n",
       "      <td>78.32</td>\n",
       "      <td>73.77</td>\n",
       "      <td>46.50</td>\n",
       "      <td>28.32</td>\n",
       "      <td>Logística</td>\n",
       "      <td>2.50</td>\n",
       "    </tr>\n",
       "    <tr>\n",
       "      <th>2268</th>\n",
       "      <td>NaN</td>\n",
       "      <td>NaN</td>\n",
       "      <td>NaN</td>\n",
       "      <td>NaN</td>\n",
       "      <td>NaN</td>\n",
       "      <td>NaN</td>\n",
       "      <td>NaN</td>\n",
       "      <td>NaN</td>\n",
       "      <td>NaN</td>\n",
       "      <td>NaN</td>\n",
       "      <td>NaN</td>\n",
       "      <td>NaN</td>\n",
       "      <td>NaN</td>\n",
       "      <td>NaN</td>\n",
       "      <td>NaN</td>\n",
       "      <td>NaN</td>\n",
       "      <td>Operações</td>\n",
       "      <td>2.00</td>\n",
       "    </tr>\n",
       "  </tbody>\n",
       "</table>\n",
       "<p>2269 rows × 18 columns</p>\n",
       "</div>"
      ],
      "text/plain": [
       "      perfil-Capacidade analítica  perfil-Pensamento conceitual  \\\n",
       "0                           41.95                         28.32   \n",
       "1                             NaN                           NaN   \n",
       "2                             NaN                           NaN   \n",
       "3                           32.86                         51.05   \n",
       "4                             NaN                           NaN   \n",
       "...                           ...                           ...   \n",
       "2264                        64.68                         60.14   \n",
       "2265                          NaN                           NaN   \n",
       "2266                          NaN                           NaN   \n",
       "2267                        37.41                         51.05   \n",
       "2268                          NaN                           NaN   \n",
       "\n",
       "      perfil-Reflexão  perfil-Pensamento criativo  \\\n",
       "0               46.50                       37.41   \n",
       "1                 NaN                         NaN   \n",
       "2                 NaN                         NaN   \n",
       "3               37.41                       46.50   \n",
       "4                 NaN                         NaN   \n",
       "...               ...                         ...   \n",
       "2264            46.50                       55.59   \n",
       "2265              NaN                         NaN   \n",
       "2266              NaN                         NaN   \n",
       "2267            69.23                       32.86   \n",
       "2268              NaN                         NaN   \n",
       "\n",
       "      perfil-Planejamento e organização  perfil-Comunicação  \\\n",
       "0                                 32.86               78.32   \n",
       "1                                   NaN                 NaN   \n",
       "2                                   NaN                 NaN   \n",
       "3                                 78.32               78.32   \n",
       "4                                   NaN                 NaN   \n",
       "...                                 ...                 ...   \n",
       "2264                              64.68               28.32   \n",
       "2265                                NaN                 NaN   \n",
       "2266                                NaN                 NaN   \n",
       "2267                              60.14               23.77   \n",
       "2268                                NaN                 NaN   \n",
       "\n",
       "      perfil-Consideração pelos outros  perfil-Influência  \\\n",
       "0                                60.14              19.23   \n",
       "1                                  NaN                NaN   \n",
       "2                                  NaN                NaN   \n",
       "3                                37.41              73.77   \n",
       "4                                  NaN                NaN   \n",
       "...                                ...                ...   \n",
       "2264                             46.50              78.32   \n",
       "2265                               NaN                NaN   \n",
       "2266                               NaN                NaN   \n",
       "2267                             46.50              41.95   \n",
       "2268                               NaN                NaN   \n",
       "\n",
       "      perfil-Sociabilidade  perfil-Facilitação  perfil-Flexibilidade  \\\n",
       "0                    23.77               41.95                 55.59   \n",
       "1                      NaN                 NaN                   NaN   \n",
       "2                      NaN                 NaN                   NaN   \n",
       "3                    91.86               32.86                 46.50   \n",
       "4                      NaN                 NaN                   NaN   \n",
       "...                    ...                 ...                   ...   \n",
       "2264                 69.23               37.41                 28.32   \n",
       "2265                   NaN                 NaN                   NaN   \n",
       "2266                   NaN                 NaN                   NaN   \n",
       "2267                 64.68               46.50                 55.59   \n",
       "2268                   NaN                 NaN                   NaN   \n",
       "\n",
       "      perfil-Estabilidade emocional  perfil-Ambição  perfil-Iniciativa  \\\n",
       "0                             78.32           60.14              41.95   \n",
       "1                               NaN             NaN                NaN   \n",
       "2                               NaN             NaN                NaN   \n",
       "3                             46.50           32.86              51.05   \n",
       "4                               NaN             NaN                NaN   \n",
       "...                             ...             ...                ...   \n",
       "2264                          73.77           69.23              37.41   \n",
       "2265                            NaN             NaN                NaN   \n",
       "2266                            NaN             NaN                NaN   \n",
       "2267                          51.05           78.32              73.77   \n",
       "2268                            NaN             NaN                NaN   \n",
       "\n",
       "      perfil-Assertividade  perfil-Tomada de riscos        Área  \\\n",
       "0                     8.74                    55.59   Operações   \n",
       "1                      NaN                      NaN   Logística   \n",
       "2                      NaN                      NaN  Financeiro   \n",
       "3                    32.86                    41.95   Operações   \n",
       "4                      NaN                      NaN     Pessoas   \n",
       "...                    ...                      ...         ...   \n",
       "2264                 37.41                    37.41   Logística   \n",
       "2265                   NaN                      NaN   Logística   \n",
       "2266                   NaN                      NaN   Operações   \n",
       "2267                 46.50                    28.32   Logística   \n",
       "2268                   NaN                      NaN   Operações   \n",
       "\n",
       "      AveragePerformance  \n",
       "0                   2.50  \n",
       "1                   2.00  \n",
       "2                   2.00  \n",
       "3                   2.75  \n",
       "4                   1.75  \n",
       "...                  ...  \n",
       "2264                2.50  \n",
       "2265                3.00  \n",
       "2266                2.00  \n",
       "2267                2.50  \n",
       "2268                2.00  \n",
       "\n",
       "[2269 rows x 18 columns]"
      ]
     },
     "execution_count": 20,
     "metadata": {},
     "output_type": "execute_result"
    }
   ],
   "source": [
    "df[features_perfil]"
   ]
  },
  {
   "cell_type": "code",
   "execution_count": 21,
   "metadata": {},
   "outputs": [],
   "source": [
    "@ignore_warnings(category=ConvergenceWarning)\n",
    "\n",
    "def cluster_group(df,features,nan='drop',cluster='spec',n_cluster_list=[2,3,4,5,6,7,8,9,10,25,50],\n",
    "                        min_samples_list = [5,10,20],eps_list = [0.1,0.5,1],\n",
    "                        choose = 0):\n",
    "    \n",
    "    X = df[features]\n",
    "\n",
    "    if nan == 'drop':\n",
    "        X = X.dropna(axis=0,how='any')\n",
    "    elif nan == 'KNNinputer':\n",
    "        X[:] = KNNImputer(missing_values=np.nan,n_neighbors = 3,add_indicator=False).fit_transform(X)\n",
    "    \n",
    "    y = df[['Área','AveragePerformance']]\n",
    "    \n",
    "    X = X.drop(['Área','AveragePerformance'],axis=1)\n",
    "    X[:] = StandardScaler().fit_transform(X)\n",
    "\n",
    "    if choose == 0:\n",
    "        if cluster == 'spec':\n",
    "            SpecCluster(X,n_cluster_list)\n",
    "        elif cluster == 'dbscan':\n",
    "            DBSCANCluster(X,min_samples_list,eps_list)\n",
    "    else:\n",
    "        spec_c = SpectralClustering(n_clusters=choose,eigen_solver='arpack',n_init=10,\n",
    "                assign_labels='kmeans',random_state=0).fit(X)\n",
    "        score = silhouette_score(X, spec_c.labels_, metric='euclidean')\n",
    "\n",
    "        unique, counts = np.unique(spec_c.labels_, return_counts=True)\n",
    "        return X,y, spec_c"
   ]
  },
  {
   "cell_type": "code",
   "execution_count": 22,
   "metadata": {},
   "outputs": [
    {
     "name": "stdout",
     "output_type": "stream",
     "text": [
      "Finished n_cluster =  2 . Number of points on clusters: [365  12] . Score: 0.07\n",
      "Finished n_cluster =  3 . Number of points on clusters: [362  12   3] . Score: -0.03\n",
      "Finished n_cluster =  4 . Number of points on clusters: [360  12   2   3] . Score: -0.07\n",
      "Finished n_cluster =  5 . Number of points on clusters: [309  11   2  52   3] . Score: -0.07\n",
      "Finished n_cluster =  6 . Number of points on clusters: [308   3  49  12   2   3] . Score: -0.06\n",
      "Finished n_cluster =  7 . Number of points on clusters: [ 48   2   3   2 307  12   3] . Score: -0.08\n",
      "Finished n_cluster =  8 . Number of points on clusters: [115   2  44   2 196   3  12   3] . Score: -0.07\n",
      "Finished n_cluster =  9 . Number of points on clusters: [301   2  44   3   3   8   2  11   3] . Score: -0.11\n",
      "Finished n_cluster =  10 . Number of points on clusters: [217   2   3   3  94   2  15   8  30   3] . Score: -0.09\n",
      "Finished n_cluster =  25 . Number of points on clusters: [ 17   2   3   6   3   2   9  29   3  34  12   2  32   3   2   3  12   8\n",
      " 130   3   3  10   3   2  44] . Score: -0.07\n",
      "Finished n_cluster =  50 . Number of points on clusters: [  5  21   3   3   3   2   2   3   3   2   3   2   3   5   2 111   6   2\n",
      "   2   2   2  15   7   6   1   4   2   1   2   7   7   8   3   8  19   5\n",
      "   4   4   7   3   3  28   8   7   2   3   8   9   3   6] . Score: -0.05\n"
     ]
    }
   ],
   "source": [
    "cluster_group(df,features_perfil,nan='drop',cluster='spec')"
   ]
  },
  {
   "cell_type": "code",
   "execution_count": 23,
   "metadata": {},
   "outputs": [
    {
     "name": "stdout",
     "output_type": "stream",
     "text": [
      "Finished n_cluster =  2 . Number of points on clusters: [323  22] . Score: 0.18\n",
      "Finished n_cluster =  3 . Number of points on clusters: [257  22  66] . Score: 0.11\n",
      "Finished n_cluster =  4 . Number of points on clusters: [226  61  22  36] . Score: 0.1\n",
      "Finished n_cluster =  5 . Number of points on clusters: [121 184  22  13   5] . Score: 0.07\n",
      "Finished n_cluster =  6 . Number of points on clusters: [123 163  22  13   5  19] . Score: 0.06\n",
      "Finished n_cluster =  7 . Number of points on clusters: [144  12  44  21 100  19   5] . Score: 0.07\n",
      "Finished n_cluster =  8 . Number of points on clusters: [116  19  27  32 123  19   5   4] . Score: 0.06\n",
      "Finished n_cluster =  9 . Number of points on clusters: [ 26 146   5   4 117   7  21   4  15] . Score: 0.03\n",
      "Finished n_cluster =  10 . Number of points on clusters: [152  25   4 101   6  21   5  15   4  12] . Score: 0.01\n",
      "Finished n_cluster =  25 . Number of points on clusters: [15 83 13  4  2 16  4  7 11 22  9 13 34 18 16  6  3  5 41  4  3  5  2  7\n",
      "  2] . Score: 0.04\n",
      "Finished n_cluster =  50 . Number of points on clusters: [14  3  2  3  3  3  2  3  5  2 10 70  2  4  5  1  2  4  2  6  4  9  2 10\n",
      "  4 10  5  2  6  4  9 10 10 13  5 20  2 12  2  2  5  5  6  3  8  2  6  5\n",
      "  9  9] . Score: 0.02\n"
     ]
    }
   ],
   "source": [
    "cluster_group(df,features_atributo,nan='drop',cluster='spec')"
   ]
  },
  {
   "cell_type": "code",
   "execution_count": 24,
   "metadata": {},
   "outputs": [
    {
     "data": {
      "text/html": [
       "<div>\n",
       "<style scoped>\n",
       "    .dataframe tbody tr th:only-of-type {\n",
       "        vertical-align: middle;\n",
       "    }\n",
       "\n",
       "    .dataframe tbody tr th {\n",
       "        vertical-align: top;\n",
       "    }\n",
       "\n",
       "    .dataframe thead th {\n",
       "        text-align: right;\n",
       "    }\n",
       "</style>\n",
       "<table border=\"1\" class=\"dataframe\">\n",
       "  <thead>\n",
       "    <tr style=\"text-align: right;\">\n",
       "      <th></th>\n",
       "      <th>atributo-Capacidade analítica</th>\n",
       "      <th>atributo-Pensamento conceitual</th>\n",
       "      <th>atributo-Reflexão</th>\n",
       "      <th>atributo-Pensamento criativo</th>\n",
       "      <th>atributo-Planejamento e organização</th>\n",
       "      <th>atributo-Comunicação</th>\n",
       "      <th>atributo-Consideração pelos outros</th>\n",
       "      <th>atributo-Influência</th>\n",
       "      <th>atributo-Sociabilidade</th>\n",
       "      <th>atributo-Facilitação</th>\n",
       "      <th>atributo-Flexibilidade</th>\n",
       "      <th>atributo-Estabilidade emocional</th>\n",
       "      <th>atributo-Ambição</th>\n",
       "      <th>atributo-Iniciativa</th>\n",
       "      <th>atributo-Assertividade</th>\n",
       "      <th>atributo-Tomada de riscos</th>\n",
       "      <th>labels</th>\n",
       "      <th>Área</th>\n",
       "      <th>AveragePerformance</th>\n",
       "    </tr>\n",
       "  </thead>\n",
       "  <tbody>\n",
       "    <tr>\n",
       "      <th>0</th>\n",
       "      <td>0.138432</td>\n",
       "      <td>-0.033301</td>\n",
       "      <td>0.897219</td>\n",
       "      <td>0.356564</td>\n",
       "      <td>-0.015900</td>\n",
       "      <td>0.353034</td>\n",
       "      <td>-0.185799</td>\n",
       "      <td>-1.686369</td>\n",
       "      <td>-1.608824</td>\n",
       "      <td>-0.808666</td>\n",
       "      <td>-0.319517</td>\n",
       "      <td>0.983690</td>\n",
       "      <td>0.446724</td>\n",
       "      <td>-0.168823</td>\n",
       "      <td>-1.189618</td>\n",
       "      <td>0.651061</td>\n",
       "      <td>1</td>\n",
       "      <td>Operações</td>\n",
       "      <td>2.50</td>\n",
       "    </tr>\n",
       "    <tr>\n",
       "      <th>3</th>\n",
       "      <td>-1.994434</td>\n",
       "      <td>-1.505928</td>\n",
       "      <td>-1.558059</td>\n",
       "      <td>-1.499166</td>\n",
       "      <td>-0.806642</td>\n",
       "      <td>-1.134401</td>\n",
       "      <td>-1.960244</td>\n",
       "      <td>-1.386567</td>\n",
       "      <td>-0.592468</td>\n",
       "      <td>-1.951700</td>\n",
       "      <td>-1.808362</td>\n",
       "      <td>-0.087654</td>\n",
       "      <td>-0.476498</td>\n",
       "      <td>0.156283</td>\n",
       "      <td>-0.202589</td>\n",
       "      <td>0.165404</td>\n",
       "      <td>2</td>\n",
       "      <td>Operações</td>\n",
       "      <td>2.75</td>\n",
       "    </tr>\n",
       "    <tr>\n",
       "      <th>7</th>\n",
       "      <td>0.942236</td>\n",
       "      <td>0.503059</td>\n",
       "      <td>-0.387942</td>\n",
       "      <td>1.495138</td>\n",
       "      <td>0.209884</td>\n",
       "      <td>0.626986</td>\n",
       "      <td>0.908959</td>\n",
       "      <td>-0.710685</td>\n",
       "      <td>0.389003</td>\n",
       "      <td>1.003595</td>\n",
       "      <td>0.303903</td>\n",
       "      <td>1.145334</td>\n",
       "      <td>0.219303</td>\n",
       "      <td>1.546804</td>\n",
       "      <td>-0.609950</td>\n",
       "      <td>0.573679</td>\n",
       "      <td>0</td>\n",
       "      <td>Financeiro</td>\n",
       "      <td>2.50</td>\n",
       "    </tr>\n",
       "    <tr>\n",
       "      <th>8</th>\n",
       "      <td>-1.511179</td>\n",
       "      <td>-1.769859</td>\n",
       "      <td>-1.104761</td>\n",
       "      <td>-0.908622</td>\n",
       "      <td>-1.532235</td>\n",
       "      <td>-1.877188</td>\n",
       "      <td>-2.069624</td>\n",
       "      <td>-2.322181</td>\n",
       "      <td>-2.068918</td>\n",
       "      <td>-1.591697</td>\n",
       "      <td>-1.836833</td>\n",
       "      <td>0.670279</td>\n",
       "      <td>0.285183</td>\n",
       "      <td>-0.501557</td>\n",
       "      <td>-1.033238</td>\n",
       "      <td>-0.327848</td>\n",
       "      <td>2</td>\n",
       "      <td>Pessoas</td>\n",
       "      <td>2.50</td>\n",
       "    </tr>\n",
       "    <tr>\n",
       "      <th>9</th>\n",
       "      <td>-1.191514</td>\n",
       "      <td>-0.648509</td>\n",
       "      <td>-0.414000</td>\n",
       "      <td>-1.431889</td>\n",
       "      <td>-0.324737</td>\n",
       "      <td>-0.264638</td>\n",
       "      <td>-0.657711</td>\n",
       "      <td>-1.306910</td>\n",
       "      <td>-1.157687</td>\n",
       "      <td>-1.102019</td>\n",
       "      <td>-0.637118</td>\n",
       "      <td>1.071247</td>\n",
       "      <td>0.380393</td>\n",
       "      <td>1.061528</td>\n",
       "      <td>0.713972</td>\n",
       "      <td>1.390702</td>\n",
       "      <td>1</td>\n",
       "      <td>Logística</td>\n",
       "      <td>1.75</td>\n",
       "    </tr>\n",
       "  </tbody>\n",
       "</table>\n",
       "</div>"
      ],
      "text/plain": [
       "   atributo-Capacidade analítica  atributo-Pensamento conceitual  \\\n",
       "0                       0.138432                       -0.033301   \n",
       "3                      -1.994434                       -1.505928   \n",
       "7                       0.942236                        0.503059   \n",
       "8                      -1.511179                       -1.769859   \n",
       "9                      -1.191514                       -0.648509   \n",
       "\n",
       "   atributo-Reflexão  atributo-Pensamento criativo  \\\n",
       "0           0.897219                      0.356564   \n",
       "3          -1.558059                     -1.499166   \n",
       "7          -0.387942                      1.495138   \n",
       "8          -1.104761                     -0.908622   \n",
       "9          -0.414000                     -1.431889   \n",
       "\n",
       "   atributo-Planejamento e organização  atributo-Comunicação  \\\n",
       "0                            -0.015900              0.353034   \n",
       "3                            -0.806642             -1.134401   \n",
       "7                             0.209884              0.626986   \n",
       "8                            -1.532235             -1.877188   \n",
       "9                            -0.324737             -0.264638   \n",
       "\n",
       "   atributo-Consideração pelos outros  atributo-Influência  \\\n",
       "0                           -0.185799            -1.686369   \n",
       "3                           -1.960244            -1.386567   \n",
       "7                            0.908959            -0.710685   \n",
       "8                           -2.069624            -2.322181   \n",
       "9                           -0.657711            -1.306910   \n",
       "\n",
       "   atributo-Sociabilidade  atributo-Facilitação  atributo-Flexibilidade  \\\n",
       "0               -1.608824             -0.808666               -0.319517   \n",
       "3               -0.592468             -1.951700               -1.808362   \n",
       "7                0.389003              1.003595                0.303903   \n",
       "8               -2.068918             -1.591697               -1.836833   \n",
       "9               -1.157687             -1.102019               -0.637118   \n",
       "\n",
       "   atributo-Estabilidade emocional  atributo-Ambição  atributo-Iniciativa  \\\n",
       "0                         0.983690          0.446724            -0.168823   \n",
       "3                        -0.087654         -0.476498             0.156283   \n",
       "7                         1.145334          0.219303             1.546804   \n",
       "8                         0.670279          0.285183            -0.501557   \n",
       "9                         1.071247          0.380393             1.061528   \n",
       "\n",
       "   atributo-Assertividade  atributo-Tomada de riscos  labels        Área  \\\n",
       "0               -1.189618                   0.651061       1   Operações   \n",
       "3               -0.202589                   0.165404       2   Operações   \n",
       "7               -0.609950                   0.573679       0  Financeiro   \n",
       "8               -1.033238                  -0.327848       2     Pessoas   \n",
       "9                0.713972                   1.390702       1   Logística   \n",
       "\n",
       "   AveragePerformance  \n",
       "0                2.50  \n",
       "3                2.75  \n",
       "7                2.50  \n",
       "8                2.50  \n",
       "9                1.75  "
      ]
     },
     "execution_count": 24,
     "metadata": {},
     "output_type": "execute_result"
    }
   ],
   "source": [
    "X_group, y_area_per, cluster_results = cluster_group(df,features_atributo,nan='drop',cluster='spec',choose=5)\n",
    "X_group['labels'] = cluster_results.labels_\n",
    "X_group = X_group.join(y_area_per)\n",
    "X_group.head()"
   ]
  },
  {
   "cell_type": "code",
   "execution_count": 25,
   "metadata": {},
   "outputs": [
    {
     "data": {
      "image/png": "[encoded data removed]",
      "text/plain": [
       "<Figure size 432x288 with 1 Axes>"
      ]
     },
     "metadata": {
      "needs_background": "light"
     },
     "output_type": "display_data"
    }
   ],
   "source": [
    "results = clusters_metrics(X_group)"
   ]
  },
  {
   "cell_type": "code",
   "execution_count": 26,
   "metadata": {},
   "outputs": [],
   "source": [
    "results"
   ]
  },
  {
   "cell_type": "markdown",
   "metadata": {},
   "source": [
    "### Cluster on pairs of the main metrics, Nan are imputed, with Threshold performance"
   ]
  },
  {
   "cell_type": "code",
   "execution_count": 27,
   "metadata": {},
   "outputs": [],
   "source": [
    "from multiprocessing.heap import Arena\n",
    "\n",
    "\n",
    "def cluster_couple(df,feature_1,feature_2,choose_cluster = 0,nan='input'):\n",
    "    if nan == 'drop':\n",
    "        X = df[[feature_1, feature_2,'Área']].dropna(axis=0,how='any')\n",
    "        df_area = df['Área']\n",
    "        X = X.drop(['Área'],axis=1)\n",
    "    elif nan == 'input':\n",
    "        X = df[[feature_1, feature_2]]\n",
    "        X[:] = KNNImputer(missing_values=np.nan,n_neighbors = 3,add_indicator=False).fit_transform(X)\n",
    "        df_area = df['Área']\n",
    "\n",
    "    X[:] = StandardScaler().fit_transform(X)\n",
    "    SpecCluster(X,n_cluster_list=[2,3,4,5,6,10])\n",
    "\n",
    "    if choose_cluster > 0:\n",
    "        spec_c_choice = SpectralClustering(n_clusters=choose_cluster, assign_labels='discretize',random_state=0).fit(X)\n",
    "        X['labels'] = spec_c_choice.labels_\n",
    "        sns.scatterplot(data=X, x=feature_1, y=feature_2, hue=X['labels'],style=df_area, s=100, palette=sns.color_palette(\"hls\", choose_cluster))       \n",
    "        plt.xlabel(feature_1)\n",
    "        plt.ylabel(feature_2)\n",
    "        plt.legend(bbox_to_anchor=(1.05, 1), loc=2, borderaxespad=0.)\n",
    "    \n",
    "    else:\n",
    "        return "
   ]
  },
  {
   "cell_type": "markdown",
   "metadata": {},
   "source": [
    "'Potencial Bruto', 'Social', 'Raciocínio',  'Motivacional',\n",
    "       'Cultura pontuação',"
   ]
  },
  {
   "cell_type": "code",
   "execution_count": 28,
   "metadata": {},
   "outputs": [],
   "source": [
    "threshold_performance = 2.6\n",
    "df = df[df['AveragePerformance'] >= threshold_performance]"
   ]
  },
  {
   "cell_type": "code",
   "execution_count": 29,
   "metadata": {},
   "outputs": [
    {
     "name": "stdout",
     "output_type": "stream",
     "text": [
      "Finished n_cluster =  2 . Number of points on clusters: [64 11] . Score: 0.53\n",
      "Finished n_cluster =  3 . Number of points on clusters: [17 47 11] . Score: 0.51\n",
      "Finished n_cluster =  4 . Number of points on clusters: [57  3 12  3] . Score: 0.38\n",
      "Finished n_cluster =  5 . Number of points on clusters: [38  3  3 12 19] . Score: 0.51\n",
      "Finished n_cluster =  6 . Number of points on clusters: [15  3  3  9  7 38] . Score: 0.5\n",
      "Finished n_cluster =  10 . Number of points on clusters: [ 3 30  2  3  1  6  6  6 11  7] . Score: 0.48\n"
     ]
    },
    {
     "data": {
      "image/png": "[encoded data removed]",
      "text/plain": [
       "<Figure size 432x288 with 1 Axes>"
      ]
     },
     "metadata": {
      "needs_background": "light"
     },
     "output_type": "display_data"
    }
   ],
   "source": [
    "cluster_couple(df,'Potencial Bruto','Cultura pontuação',choose_cluster = 2,nan='input')"
   ]
  },
  {
   "cell_type": "code",
   "execution_count": 30,
   "metadata": {},
   "outputs": [
    {
     "name": "stdout",
     "output_type": "stream",
     "text": [
      "Finished n_cluster =  2 . Number of points on clusters: [10 65] . Score: 0.55\n",
      "Finished n_cluster =  3 . Number of points on clusters: [10 55 10] . Score: 0.49\n",
      "Finished n_cluster =  4 . Number of points on clusters: [10 48 10  7] . Score: 0.44\n",
      "Finished n_cluster =  5 . Number of points on clusters: [48 10  7  4  6] . Score: 0.4\n",
      "Finished n_cluster =  6 . Number of points on clusters: [48 10  4  2  4  7] . Score: 0.43\n",
      "Finished n_cluster =  10 . Number of points on clusters: [ 8  2  9 40  3  2  2  5  1  3] . Score: 0.42\n"
     ]
    },
    {
     "data": {
      "image/png": "[encoded data removed]",
      "text/plain": [
       "<Figure size 432x288 with 1 Axes>"
      ]
     },
     "metadata": {
      "needs_background": "light"
     },
     "output_type": "display_data"
    }
   ],
   "source": [
    "cluster_couple(df,'Social','Raciocínio',choose_cluster = 2,nan='input')"
   ]
  },
  {
   "cell_type": "code",
   "execution_count": 31,
   "metadata": {},
   "outputs": [
    {
     "name": "stdout",
     "output_type": "stream",
     "text": [
      "Finished n_cluster =  2 . Number of points on clusters: [73  2] . Score: 0.71\n",
      "Finished n_cluster =  3 . Number of points on clusters: [69  2  4] . Score: 0.65\n",
      "Finished n_cluster =  4 . Number of points on clusters: [66  2  3  4] . Score: 0.69\n",
      "Finished n_cluster =  5 . Number of points on clusters: [64  3  2  4  2] . Score: 0.69\n",
      "Finished n_cluster =  6 . Number of points on clusters: [62  2  3  2  2  4] . Score: 0.73\n",
      "Finished n_cluster =  10 . Number of points on clusters: [59  1  1  2  2  2  2  2  1  3] . Score: 0.73\n"
     ]
    },
    {
     "data": {
      "image/png": "[encoded data removed]",
      "text/plain": [
       "<Figure size 432x288 with 1 Axes>"
      ]
     },
     "metadata": {
      "needs_background": "light"
     },
     "output_type": "display_data"
    }
   ],
   "source": [
    "cluster_couple(df,'Social','Motivacional',choose_cluster = 3)"
   ]
  },
  {
   "cell_type": "code",
   "execution_count": 32,
   "metadata": {},
   "outputs": [
    {
     "name": "stdout",
     "output_type": "stream",
     "text": [
      "Finished n_cluster =  2 . Number of points on clusters: [63 12] . Score: 0.46\n",
      "Finished n_cluster =  3 . Number of points on clusters: [47 10 18] . Score: 0.48\n",
      "Finished n_cluster =  4 . Number of points on clusters: [18 17  9 31] . Score: 0.45\n",
      "Finished n_cluster =  5 . Number of points on clusters: [39  9  4 10 13] . Score: 0.42\n",
      "Finished n_cluster =  6 . Number of points on clusters: [48  4  9  5  1  8] . Score: 0.36\n",
      "Finished n_cluster =  10 . Number of points on clusters: [ 8  1 11  2  1 39  2  2  2  7] . Score: 0.44\n"
     ]
    },
    {
     "data": {
      "image/png": "[encoded data removed]",
      "text/plain": [
       "<Figure size 432x288 with 1 Axes>"
      ]
     },
     "metadata": {
      "needs_background": "light"
     },
     "output_type": "display_data"
    }
   ],
   "source": [
    "cluster_couple(df,'Social','Cultura pontuação',choose_cluster = 4)"
   ]
  },
  {
   "cell_type": "code",
   "execution_count": 33,
   "metadata": {},
   "outputs": [
    {
     "name": "stdout",
     "output_type": "stream",
     "text": [
      "Finished n_cluster =  2 . Number of points on clusters: [13 62] . Score: 0.4\n",
      "Finished n_cluster =  3 . Number of points on clusters: [12 58  5] . Score: 0.45\n",
      "Finished n_cluster =  4 . Number of points on clusters: [12 48  5 10] . Score: 0.45\n",
      "Finished n_cluster =  5 . Number of points on clusters: [12 38  5 10 10] . Score: 0.48\n",
      "Finished n_cluster =  6 . Number of points on clusters: [ 7 10 38  5  7  8] . Score: 0.47\n",
      "Finished n_cluster =  10 . Number of points on clusters: [ 5 28  7  7  7  5  1 10  3  2] . Score: 0.47\n"
     ]
    },
    {
     "data": {
      "image/png": "[encoded data removed]",
      "text/plain": [
       "<Figure size 432x288 with 1 Axes>"
      ]
     },
     "metadata": {
      "needs_background": "light"
     },
     "output_type": "display_data"
    }
   ],
   "source": [
    "cluster_couple(df,'Raciocínio','Motivacional',choose_cluster = 3)"
   ]
  },
  {
   "cell_type": "code",
   "execution_count": 34,
   "metadata": {},
   "outputs": [
    {
     "name": "stdout",
     "output_type": "stream",
     "text": [
      "Finished n_cluster =  2 . Number of points on clusters: [12 63] . Score: 0.4\n",
      "Finished n_cluster =  3 . Number of points on clusters: [52 11 12] . Score: 0.42\n",
      "Finished n_cluster =  4 . Number of points on clusters: [43  9 11 12] . Score: 0.38\n",
      "Finished n_cluster =  5 . Number of points on clusters: [11 36  7 12  9] . Score: 0.4\n",
      "Finished n_cluster =  6 . Number of points on clusters: [11  7 10 11 28  8] . Score: 0.41\n",
      "Finished n_cluster =  10 . Number of points on clusters: [ 6  1 36  2  5  4  7 10  3  1] . Score: 0.34\n"
     ]
    },
    {
     "data": {
      "image/png": "[encoded data removed]",
      "text/plain": [
       "<Figure size 432x288 with 1 Axes>"
      ]
     },
     "metadata": {
      "needs_background": "light"
     },
     "output_type": "display_data"
    }
   ],
   "source": [
    "cluster_couple(df,'Raciocínio','Cultura pontuação',choose_cluster = 2)"
   ]
  },
  {
   "cell_type": "code",
   "execution_count": 35,
   "metadata": {},
   "outputs": [
    {
     "name": "stdout",
     "output_type": "stream",
     "text": [
      "Finished n_cluster =  2 . Number of points on clusters: [73  2] . Score: 0.52\n",
      "Finished n_cluster =  3 . Number of points on clusters: [61  2 12] . Score: 0.46\n",
      "Finished n_cluster =  4 . Number of points on clusters: [24  2 11 38] . Score: 0.44\n",
      "Finished n_cluster =  5 . Number of points on clusters: [19  2 15  9 30] . Score: 0.45\n",
      "Finished n_cluster =  6 . Number of points on clusters: [38  2 15  3 13  4] . Score: 0.45\n",
      "Finished n_cluster =  10 . Number of points on clusters: [13  2  2  1 35  4  1  5  1 11] . Score: 0.39\n"
     ]
    },
    {
     "data": {
      "image/png": "[encoded data removed]",
      "text/plain": [
       "<Figure size 432x288 with 1 Axes>"
      ]
     },
     "metadata": {
      "needs_background": "light"
     },
     "output_type": "display_data"
    }
   ],
   "source": [
    "cluster_couple(df,'Motivacional','Cultura pontuação',choose_cluster = 4)"
   ]
  },
  {
   "cell_type": "markdown",
   "metadata": {},
   "source": []
  }
 ],
 "metadata": {
  "celltoolbar": "Slideshow",
  "kernelspec": {
   "display_name": "Python 3 (ipykernel)",
   "language": "python",
   "name": "python3"
  },
  "language_info": {
   "codemirror_mode": {
    "name": "ipython",
    "version": 3
   },
   "file_extension": ".py",
   "mimetype": "text/x-python",
   "name": "python",
   "nbconvert_exporter": "python",
   "pygments_lexer": "ipython3",
   "version": "3.6.13"
  },
  "vscode": {
   "interpreter": {
    "hash": "cb2bbfe96151b3affda237293ce0e4190ec2d328bec4ad4f32e4843d84569a2b"
   }
  }
 },
 "nbformat": 4,
 "nbformat_minor": 2
}
