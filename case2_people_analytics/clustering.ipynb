{
 "cells": [
  {
   "cell_type": "code",
   "execution_count": 160,
   "metadata": {},
   "outputs": [],
   "source": [
    "import numpy as np\n",
    "import matplotlib.pyplot as plt\n",
    "import seaborn as sns\n",
    "sns.set_style(\"ticks\")\n",
    "import pandas as pd\n",
    "\n",
    "from sklearn.impute import KNNImputer\n",
    "from sklearn.preprocessing import StandardScaler\n",
    "from sklearn.cluster import SpectralClustering\n",
    "from sklearn.cluster import DBSCAN\n",
    "from sklearn.metrics import silhouette_score\n",
    "from sklearn.metrics import calinski_harabasz_score"
   ]
  },
  {
   "cell_type": "code",
   "execution_count": 27,
   "metadata": {},
   "outputs": [
    {
     "data": {
      "text/html": [
       "<div>\n",
       "<style scoped>\n",
       "    .dataframe tbody tr th:only-of-type {\n",
       "        vertical-align: middle;\n",
       "    }\n",
       "\n",
       "    .dataframe tbody tr th {\n",
       "        vertical-align: top;\n",
       "    }\n",
       "\n",
       "    .dataframe thead th {\n",
       "        text-align: right;\n",
       "    }\n",
       "</style>\n",
       "<table border=\"1\" class=\"dataframe\">\n",
       "  <thead>\n",
       "    <tr style=\"text-align: right;\">\n",
       "      <th></th>\n",
       "      <th>CPF</th>\n",
       "      <th>Potencial Bruto</th>\n",
       "      <th>Raciocínio</th>\n",
       "      <th>Social</th>\n",
       "      <th>Motivacional</th>\n",
       "      <th>Cultura pontuação</th>\n",
       "      <th>atributo-Capacidade analítica</th>\n",
       "      <th>atributo-Pensamento conceitual</th>\n",
       "      <th>atributo-Reflexão</th>\n",
       "      <th>atributo-Pensamento criativo</th>\n",
       "      <th>...</th>\n",
       "      <th>perfil-Facilitação</th>\n",
       "      <th>perfil-Flexibilidade</th>\n",
       "      <th>perfil-Estabilidade emocional</th>\n",
       "      <th>perfil-Ambição</th>\n",
       "      <th>perfil-Iniciativa</th>\n",
       "      <th>perfil-Assertividade</th>\n",
       "      <th>perfil-Tomada de riscos</th>\n",
       "      <th>Área</th>\n",
       "      <th>AveragePerformance</th>\n",
       "      <th>ModePerformance</th>\n",
       "    </tr>\n",
       "  </thead>\n",
       "  <tbody>\n",
       "    <tr>\n",
       "      <th>0</th>\n",
       "      <td>678.042.935-18</td>\n",
       "      <td>53.65</td>\n",
       "      <td>65.70</td>\n",
       "      <td>37.65</td>\n",
       "      <td>56.75</td>\n",
       "      <td>32.33</td>\n",
       "      <td>59.67</td>\n",
       "      <td>49.44</td>\n",
       "      <td>63.08</td>\n",
       "      <td>56.26</td>\n",
       "      <td>...</td>\n",
       "      <td>41.95</td>\n",
       "      <td>55.59</td>\n",
       "      <td>78.32</td>\n",
       "      <td>60.14</td>\n",
       "      <td>41.95</td>\n",
       "      <td>8.74</td>\n",
       "      <td>55.59</td>\n",
       "      <td>Operações</td>\n",
       "      <td>2.50</td>\n",
       "      <td>2.0</td>\n",
       "    </tr>\n",
       "    <tr>\n",
       "      <th>1</th>\n",
       "      <td>089.324.175-12</td>\n",
       "      <td>NaN</td>\n",
       "      <td>60.78</td>\n",
       "      <td>NaN</td>\n",
       "      <td>NaN</td>\n",
       "      <td>35.13</td>\n",
       "      <td>NaN</td>\n",
       "      <td>NaN</td>\n",
       "      <td>NaN</td>\n",
       "      <td>NaN</td>\n",
       "      <td>...</td>\n",
       "      <td>NaN</td>\n",
       "      <td>NaN</td>\n",
       "      <td>NaN</td>\n",
       "      <td>NaN</td>\n",
       "      <td>NaN</td>\n",
       "      <td>NaN</td>\n",
       "      <td>NaN</td>\n",
       "      <td>Logística</td>\n",
       "      <td>2.00</td>\n",
       "      <td>2.0</td>\n",
       "    </tr>\n",
       "    <tr>\n",
       "      <th>2</th>\n",
       "      <td>587.416.093-11</td>\n",
       "      <td>NaN</td>\n",
       "      <td>NaN</td>\n",
       "      <td>NaN</td>\n",
       "      <td>NaN</td>\n",
       "      <td>NaN</td>\n",
       "      <td>NaN</td>\n",
       "      <td>NaN</td>\n",
       "      <td>NaN</td>\n",
       "      <td>NaN</td>\n",
       "      <td>...</td>\n",
       "      <td>NaN</td>\n",
       "      <td>NaN</td>\n",
       "      <td>NaN</td>\n",
       "      <td>NaN</td>\n",
       "      <td>NaN</td>\n",
       "      <td>NaN</td>\n",
       "      <td>NaN</td>\n",
       "      <td>Financeiro</td>\n",
       "      <td>2.00</td>\n",
       "      <td>2.0</td>\n",
       "    </tr>\n",
       "    <tr>\n",
       "      <th>3</th>\n",
       "      <td>375.410.982-13</td>\n",
       "      <td>22.46</td>\n",
       "      <td>15.71</td>\n",
       "      <td>5.67</td>\n",
       "      <td>56.75</td>\n",
       "      <td>23.36</td>\n",
       "      <td>11.43</td>\n",
       "      <td>18.25</td>\n",
       "      <td>13.14</td>\n",
       "      <td>16.54</td>\n",
       "      <td>...</td>\n",
       "      <td>32.86</td>\n",
       "      <td>46.50</td>\n",
       "      <td>46.50</td>\n",
       "      <td>32.86</td>\n",
       "      <td>51.05</td>\n",
       "      <td>32.86</td>\n",
       "      <td>41.95</td>\n",
       "      <td>Operações</td>\n",
       "      <td>2.75</td>\n",
       "      <td>3.0</td>\n",
       "    </tr>\n",
       "    <tr>\n",
       "      <th>4</th>\n",
       "      <td>652.134.809-42</td>\n",
       "      <td>NaN</td>\n",
       "      <td>56.15</td>\n",
       "      <td>NaN</td>\n",
       "      <td>NaN</td>\n",
       "      <td>62.03</td>\n",
       "      <td>NaN</td>\n",
       "      <td>NaN</td>\n",
       "      <td>NaN</td>\n",
       "      <td>NaN</td>\n",
       "      <td>...</td>\n",
       "      <td>NaN</td>\n",
       "      <td>NaN</td>\n",
       "      <td>NaN</td>\n",
       "      <td>NaN</td>\n",
       "      <td>NaN</td>\n",
       "      <td>NaN</td>\n",
       "      <td>NaN</td>\n",
       "      <td>Pessoas</td>\n",
       "      <td>1.75</td>\n",
       "      <td>1.0</td>\n",
       "    </tr>\n",
       "  </tbody>\n",
       "</table>\n",
       "<p>5 rows × 41 columns</p>\n",
       "</div>"
      ],
      "text/plain": [
       "              CPF  Potencial Bruto  Raciocínio  Social  Motivacional  \\\n",
       "0  678.042.935-18            53.65       65.70   37.65         56.75   \n",
       "1  089.324.175-12              NaN       60.78     NaN           NaN   \n",
       "2  587.416.093-11              NaN         NaN     NaN           NaN   \n",
       "3  375.410.982-13            22.46       15.71    5.67         56.75   \n",
       "4  652.134.809-42              NaN       56.15     NaN           NaN   \n",
       "\n",
       "   Cultura pontuação  atributo-Capacidade analítica  \\\n",
       "0              32.33                          59.67   \n",
       "1              35.13                            NaN   \n",
       "2                NaN                            NaN   \n",
       "3              23.36                          11.43   \n",
       "4              62.03                            NaN   \n",
       "\n",
       "   atributo-Pensamento conceitual  atributo-Reflexão  \\\n",
       "0                           49.44              63.08   \n",
       "1                             NaN                NaN   \n",
       "2                             NaN                NaN   \n",
       "3                           18.25              13.14   \n",
       "4                             NaN                NaN   \n",
       "\n",
       "   atributo-Pensamento criativo  ...  perfil-Facilitação  \\\n",
       "0                         56.26  ...               41.95   \n",
       "1                           NaN  ...                 NaN   \n",
       "2                           NaN  ...                 NaN   \n",
       "3                         16.54  ...               32.86   \n",
       "4                           NaN  ...                 NaN   \n",
       "\n",
       "   perfil-Flexibilidade  perfil-Estabilidade emocional  perfil-Ambição  \\\n",
       "0                 55.59                          78.32           60.14   \n",
       "1                   NaN                            NaN             NaN   \n",
       "2                   NaN                            NaN             NaN   \n",
       "3                 46.50                          46.50           32.86   \n",
       "4                   NaN                            NaN             NaN   \n",
       "\n",
       "   perfil-Iniciativa  perfil-Assertividade  perfil-Tomada de riscos  \\\n",
       "0              41.95                  8.74                    55.59   \n",
       "1                NaN                   NaN                      NaN   \n",
       "2                NaN                   NaN                      NaN   \n",
       "3              51.05                 32.86                    41.95   \n",
       "4                NaN                   NaN                      NaN   \n",
       "\n",
       "         Área  AveragePerformance  ModePerformance  \n",
       "0   Operações                2.50              2.0  \n",
       "1   Logística                2.00              2.0  \n",
       "2  Financeiro                2.00              2.0  \n",
       "3   Operações                2.75              3.0  \n",
       "4     Pessoas                1.75              1.0  \n",
       "\n",
       "[5 rows x 41 columns]"
      ]
     },
     "execution_count": 27,
     "metadata": {},
     "output_type": "execute_result"
    }
   ],
   "source": [
    "df = pd.read_csv('processed_data/all_data.csv')\n",
    "df.head()"
   ]
  },
  {
   "cell_type": "code",
   "execution_count": 45,
   "metadata": {},
   "outputs": [
    {
     "data": {
      "text/plain": [
       "Index(['CPF', 'Potencial Bruto', 'Raciocínio', 'Social', 'Motivacional',\n",
       "       'Cultura pontuação', 'atributo-Capacidade analítica',\n",
       "       'atributo-Pensamento conceitual', 'atributo-Reflexão',\n",
       "       'atributo-Pensamento criativo', 'atributo-Planejamento e organização',\n",
       "       'atributo-Comunicação', 'atributo-Consideração pelos outros',\n",
       "       'atributo-Influência', 'atributo-Sociabilidade', 'atributo-Facilitação',\n",
       "       'atributo-Flexibilidade', 'atributo-Estabilidade emocional',\n",
       "       'atributo-Ambição', 'atributo-Iniciativa', 'atributo-Assertividade',\n",
       "       'atributo-Tomada de riscos', 'perfil-Capacidade analítica',\n",
       "       'perfil-Pensamento conceitual', 'perfil-Reflexão',\n",
       "       'perfil-Pensamento criativo', 'perfil-Planejamento e organização',\n",
       "       'perfil-Comunicação', 'perfil-Consideração pelos outros',\n",
       "       'perfil-Influência', 'perfil-Sociabilidade', 'perfil-Facilitação',\n",
       "       'perfil-Flexibilidade', 'perfil-Estabilidade emocional',\n",
       "       'perfil-Ambição', 'perfil-Iniciativa', 'perfil-Assertividade',\n",
       "       'perfil-Tomada de riscos', 'Área', 'AveragePerformance',\n",
       "       'ModePerformance'],\n",
       "      dtype='object')"
      ]
     },
     "execution_count": 45,
     "metadata": {},
     "output_type": "execute_result"
    }
   ],
   "source": [
    "df.columns"
   ]
  },
  {
   "cell_type": "markdown",
   "metadata": {},
   "source": [
    "Small amount of variables with KNN imputation"
   ]
  },
  {
   "cell_type": "code",
   "execution_count": 124,
   "metadata": {},
   "outputs": [],
   "source": [
    "X = df[['Raciocínio','Social','Motivacional','Cultura pontuação']]\n",
    "X = KNNImputer(missing_values=np.nan,n_neighbors = 5,add_indicator=False).fit_transform(X)\n",
    "X = StandardScaler().fit_transform(X)"
   ]
  },
  {
   "cell_type": "code",
   "execution_count": 125,
   "metadata": {},
   "outputs": [
    {
     "name": "stdout",
     "output_type": "stream",
     "text": [
      "Finished n_cluster =  2\n",
      "Finished n_cluster =  5\n",
      "Finished n_cluster =  8\n",
      "Finished n_cluster =  10\n",
      "{2: 0.3037144639652581, 5: 0.2618193912313312, 8: 0.2501253223387485, 10: 0.2390405987089542}\n"
     ]
    }
   ],
   "source": [
    "cluster_result = {}\n",
    "for n_cluster in [2,5,8,10]:\n",
    "    spec_c = SpectralClustering(n_clusters=n_cluster, assign_labels='discretize',random_state=0).fit(X)\n",
    "    score = silhouette_score(X, spec_c.labels_, metric='euclidean')\n",
    "    print('Finished n_cluster = ',n_cluster)\n",
    "    cluster_result[n_cluster] = score\n",
    "print(cluster_result)"
   ]
  },
  {
   "cell_type": "code",
   "execution_count": 169,
   "metadata": {},
   "outputs": [
    {
     "name": "stdout",
     "output_type": "stream",
     "text": [
      "Params 2-1.09 has 7 clusters and 0.22-10.0 score\n",
      "Params 2-1.1 has 7 clusters and 0.22-10.0 score\n",
      "Params 3-1 has 5 clusters and 0.24-13.0 score\n",
      "Params 3-1.005 has 5 clusters and 0.24-13.0 score\n",
      "Params 3-1.01 has 5 clusters and 0.24-14.0 score\n",
      "Params 3-1.03 has 4 clusters and 0.25-14.0 score\n",
      "Params 3-1.04 has 4 clusters and 0.25-14.0 score\n",
      "Params 3-1.05 has 3 clusters and 0.29-11.0 score\n",
      "Params 3-1.09 has 3 clusters and 0.29-11.0 score\n",
      "Params 3-1.1 has 3 clusters and 0.29-11.0 score\n",
      "Params 4-1.02 has 3 clusters and 0.28-12.0 score\n",
      "Params 4-1.03 has 3 clusters and 0.28-11.0 score\n",
      "Params 4-1.04 has 3 clusters and 0.3-13.0 score\n",
      "Params 4-1.05 has 3 clusters and 0.31-13.0 score\n",
      "Params 4-1.09 has 3 clusters and 0.32-11.0 score\n"
     ]
    }
   ],
   "source": [
    "for min_samples in [2,3,4]:\n",
    "    for eps in [1,1.005,1.01,1.02,1.03,1.04,1.05,1.09,1.1]:\n",
    "        spec_c = DBSCAN(min_samples = min_samples,eps=eps).fit(X)\n",
    "        silhou = silhouette_score(X, spec_c.labels_, metric='euclidean')\n",
    "        calins = calinski_harabasz_score(X, spec_c.labels_)\n",
    "        if len([x for x in set(spec_c.labels_) if x >=0]) > 2 and silhou > 0.2:\n",
    "            print('Params {0}-{1} has {2} clusters and {3}-{4} score'.format(min_samples,eps,len([x for x in set(spec_c.labels_) if x >=0]),round(silhou,2),round(calins,0)))"
   ]
  },
  {
   "cell_type": "markdown",
   "metadata": {},
   "source": [
    "Big number of variables, just rows without Nan"
   ]
  },
  {
   "cell_type": "code",
   "execution_count": 106,
   "metadata": {},
   "outputs": [],
   "source": [
    "X = df[['Potencial Bruto', 'Raciocínio', 'Social', 'Motivacional',\n",
    "       'Cultura pontuação', 'atributo-Capacidade analítica',\n",
    "       'atributo-Pensamento conceitual', 'atributo-Reflexão',\n",
    "       'atributo-Pensamento criativo', 'atributo-Planejamento e organização',\n",
    "       'atributo-Comunicação', 'atributo-Consideração pelos outros',\n",
    "       'atributo-Influência', 'atributo-Sociabilidade', 'atributo-Facilitação',\n",
    "       'atributo-Flexibilidade', 'atributo-Estabilidade emocional',\n",
    "       'atributo-Ambição', 'atributo-Iniciativa', 'atributo-Assertividade',\n",
    "       'atributo-Tomada de riscos', 'perfil-Capacidade analítica',\n",
    "       'perfil-Pensamento conceitual', 'perfil-Reflexão',\n",
    "       'perfil-Pensamento criativo', 'perfil-Planejamento e organização',\n",
    "       'perfil-Comunicação', 'perfil-Consideração pelos outros',\n",
    "       'perfil-Influência', 'perfil-Sociabilidade', 'perfil-Facilitação',\n",
    "       'perfil-Flexibilidade', 'perfil-Estabilidade emocional',\n",
    "       'perfil-Ambição', 'perfil-Iniciativa', 'perfil-Assertividade',\n",
    "       'perfil-Tomada de riscos']]\n",
    "X = X.dropna(axis=0,how='any')\n",
    "X = StandardScaler().fit_transform(X)"
   ]
  },
  {
   "cell_type": "code",
   "execution_count": 107,
   "metadata": {},
   "outputs": [
    {
     "name": "stdout",
     "output_type": "stream",
     "text": [
      "Finished n_cluster =  2\n",
      "Finished n_cluster =  3\n",
      "Finished n_cluster =  4\n",
      "Finished n_cluster =  5\n",
      "Finished n_cluster =  8\n",
      "Finished n_cluster =  10\n",
      "{2: 0.12781259869240255, 3: 0.01689871607133735, 4: -0.06739386418642711, 5: -0.0712034535228569, 8: -0.09494512193323587, 10: -0.10020282256693462}\n"
     ]
    }
   ],
   "source": [
    "cluster_result = {}\n",
    "for n_cluster in [2,3,4,5,8,10]:\n",
    "    spec_c = SpectralClustering(n_clusters=n_cluster, assign_labels='discretize',random_state=0).fit(X)\n",
    "    score = silhouette_score(X, spec_c.labels_, metric='euclidean')\n",
    "    print('Finished n_cluster = ',n_cluster)\n",
    "    cluster_result[n_cluster] = score\n",
    "print(cluster_result)"
   ]
  },
  {
   "cell_type": "code",
   "execution_count": null,
   "metadata": {},
   "outputs": [],
   "source": []
  }
 ],
 "metadata": {
  "kernelspec": {
   "display_name": "Python 3.6.13 ('python3')",
   "language": "python",
   "name": "python3"
  },
  "language_info": {
   "codemirror_mode": {
    "name": "ipython",
    "version": 3
   },
   "file_extension": ".py",
   "mimetype": "text/x-python",
   "name": "python",
   "nbconvert_exporter": "python",
   "pygments_lexer": "ipython3",
   "version": "3.6.13"
  },
  "orig_nbformat": 4,
  "vscode": {
   "interpreter": {
    "hash": "cb2bbfe96151b3affda237293ce0e4190ec2d328bec4ad4f32e4843d84569a2b"
   }
  }
 },
 "nbformat": 4,
 "nbformat_minor": 2
}
