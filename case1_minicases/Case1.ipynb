{
 "cells": [
  {
   "cell_type": "markdown",
   "metadata": {},
   "source": [
    "## Case python and Machine Learning empresa x"
   ]
  },
  {
   "cell_type": "markdown",
   "metadata": {},
   "source": [
    "Test 1"
   ]
  },
  {
   "cell_type": "code",
   "execution_count": 22,
   "metadata": {},
   "outputs": [
    {
     "name": "stdout",
     "output_type": "stream",
     "text": [
      "[1614286432]\n"
     ]
    }
   ],
   "source": [
    "import xml.etree.ElementTree as ET\n",
    "\n",
    "def timestamps_by_description(xml, description):\n",
    "    timestamps = []\n",
    "    for num, text in enumerate(xml.splitlines()):\n",
    "        if description in text:\n",
    "            found = xml.splitlines()[num-1]\n",
    "            timestamps.append(int(found[found.find('=')+2:found.find('\">')]))\n",
    "\n",
    "    return timestamps\n",
    "\n",
    "xml = \"\"\"<?xml version=\"1.0\" encoding=\"UTF-8\"?>\n",
    "<log>\n",
    "    <event timestamp=\"1614285589\">\n",
    "        <description>Intrusion detected</description>\n",
    "    </event>\n",
    "    <event timestamp=\"1614286432\">\n",
    "        <description>Intrusion ended</description>\n",
    "    </event>\n",
    "</log>\"\"\"\n",
    "print(timestamps_by_description(xml, 'Intrusion ended'))"
   ]
  },
  {
   "cell_type": "markdown",
   "metadata": {},
   "source": [
    "Test 2"
   ]
  },
  {
   "cell_type": "code",
   "execution_count": 24,
   "metadata": {},
   "outputs": [
    {
     "name": "stdout",
     "output_type": "stream",
     "text": [
      "210.24073823727426\n"
     ]
    }
   ],
   "source": [
    "import pandas as pd\n",
    "import numpy as np\n",
    "import scipy.stats as st\n",
    "\n",
    "def distribution_fitting(distribution_code, investments):\n",
    "    \"\"\"\n",
    "    :param distribution_code (string): 'norm', 'cauchy', or 'expon'.\n",
    "    :param investments: (list) The size of each investment received.\n",
    "    :returns: (float) Akaike information criterion of the distribution for the dataset.\n",
    "    \"\"\"\n",
    "\n",
    "    if distribution_code == 'norm':\n",
    "        model_params = st.norm.fit(investments)\n",
    "        k = len(model_params)\n",
    "        logLik = np.sum(st.norm.logpdf(investments,model_params[0],model_params[1]))\n",
    "        \n",
    "    elif distribution_code == 'cauchy':\n",
    "        model_params = st.cauchy.fit(investments)\n",
    "        k = len(model_params)\n",
    "        logLik = np.sum(st.cauchy.logpdf(investments,model_params[0],model_params[1]))\n",
    "\n",
    "    elif distribution_code == 'expon':\n",
    "        model_params = st.expon.fit(investments)\n",
    "        k = len(model_params)\n",
    "        logLik = np.sum(st.expon.logpdf(investments,model_params[0],model_params[1]))\n",
    "\n",
    "    return 2*k - 2*logLik\n",
    "\n",
    "#For example, with the parameters below, the function should return ~210.24074.\n",
    "investments = [\n",
    "    11624, 9388, 9471, 8927,\n",
    "    10865, 7698, 11744, 9238,\n",
    "    10319, 9750, 11462, 7939\n",
    "]\n",
    "print(distribution_fitting('norm', investments))"
   ]
  },
  {
   "cell_type": "markdown",
   "metadata": {},
   "source": [
    "Test 3"
   ]
  },
  {
   "cell_type": "code",
   "execution_count": 25,
   "metadata": {},
   "outputs": [
    {
     "name": "stdout",
     "output_type": "stream",
     "text": [
      "[['1a', 4.0], ['1b', 4.0]]\n"
     ]
    }
   ],
   "source": [
    "import pandas as pd\n",
    "import numpy as np\n",
    "\n",
    "def class_grades(students):\n",
    "    \"\"\"\n",
    "    :param students: (list) Each element of the list is another list with the \n",
    "      following elements: Student name (string), class name (string), student grade (int).\n",
    "    :returns: (list) Each element is a list with the following \n",
    "      elements: Class name (string), median grade for students in the class (float).\n",
    "    \"\"\"\n",
    "    classes = []\n",
    "    for student in students:\n",
    "        student_class = student[1]\n",
    "        add_in_class = False\n",
    "        for i,each_class in enumerate(classes):\n",
    "            if student_class == each_class[0]:\n",
    "                classes[i][1].append(student[2])\n",
    "                add_in_class = True\n",
    "                break\n",
    "        if add_in_class == False:\n",
    "            classes.append([student_class,[student[2]]])\n",
    "\n",
    "    for i in range(len(classes)):\n",
    "        classes[i][1] = np.median(classes[i][1])\n",
    "\n",
    "    return classes\n",
    "\n",
    "students = [[\"Ana Stevens\", \"1a\", 5], [\"Mark Stevens\", \"1a\", 4], [\"Jon Jones\", \"1a\", 2], [\"Bob Kent\", \"1b\", 4]]\n",
    "print(class_grades(students))"
   ]
  },
  {
   "cell_type": "markdown",
   "metadata": {},
   "source": [
    "Test 4"
   ]
  },
  {
   "cell_type": "code",
   "execution_count": 4,
   "metadata": {},
   "outputs": [
    {
     "ename": "TypeError",
     "evalue": "cannot convert the series to <class 'float'>",
     "output_type": "error",
     "traceback": [
      "\u001b[0;31m---------------------------------------------------------------------------\u001b[0m",
      "\u001b[0;31mTypeError\u001b[0m                                 Traceback (most recent call last)",
      "\u001b[0;32m<ipython-input-4-e22226ea755f>\u001b[0m in \u001b[0;36m<module>\u001b[0;34m()\u001b[0m\n\u001b[1;32m     45\u001b[0m         \u001b[0mcolumns\u001b[0m \u001b[0;34m=\u001b[0m \u001b[0;34m[\u001b[0m\u001b[0;34m'Loan'\u001b[0m\u001b[0;34m,\u001b[0m \u001b[0;34m'DerogatoryMarks'\u001b[0m\u001b[0;34m,\u001b[0m \u001b[0;34m'Accepted'\u001b[0m\u001b[0;34m]\u001b[0m\u001b[0;34m\u001b[0m\u001b[0;34m\u001b[0m\u001b[0m\n\u001b[1;32m     46\u001b[0m     )\n\u001b[0;32m---> 47\u001b[0;31m \u001b[0mprint\u001b[0m\u001b[0;34m(\u001b[0m\u001b[0mapplication_approval\u001b[0m\u001b[0;34m(\u001b[0m\u001b[0mdata\u001b[0m\u001b[0;34m,\u001b[0m \u001b[0;36m85000\u001b[0m\u001b[0;34m,\u001b[0m \u001b[0;36m1\u001b[0m\u001b[0;34m,\u001b[0m \u001b[0;36m1\u001b[0m\u001b[0;34m)\u001b[0m\u001b[0;34m)\u001b[0m\u001b[0;34m\u001b[0m\u001b[0;34m\u001b[0m\u001b[0m\n\u001b[0m",
      "\u001b[0;32m<ipython-input-4-e22226ea755f>\u001b[0m in \u001b[0;36mapplication_approval\u001b[0;34m(data, loan, derogatory_marks, k)\u001b[0m\n\u001b[1;32m     25\u001b[0m \u001b[0;34m\u001b[0m\u001b[0m\n\u001b[1;32m     26\u001b[0m \u001b[0;34m\u001b[0m\u001b[0m\n\u001b[0;32m---> 27\u001b[0;31m     \u001b[0mmodel_neigh\u001b[0m \u001b[0;34m=\u001b[0m \u001b[0mKNeighborsClassifier\u001b[0m\u001b[0;34m(\u001b[0m\u001b[0mn_neighbors\u001b[0m \u001b[0;34m=\u001b[0m \u001b[0;36m1\u001b[0m\u001b[0;34m,\u001b[0m\u001b[0mmetric\u001b[0m \u001b[0;34m=\u001b[0m \u001b[0mdistance\u001b[0m\u001b[0;34m(\u001b[0m\u001b[0mX_train\u001b[0m\u001b[0;34m[\u001b[0m\u001b[0;34m'Loan'\u001b[0m\u001b[0;34m]\u001b[0m\u001b[0;34m,\u001b[0m \u001b[0mX_train\u001b[0m\u001b[0;34m[\u001b[0m\u001b[0;34m'DerogatoryMarks'\u001b[0m\u001b[0;34m]\u001b[0m\u001b[0;34m,\u001b[0m\u001b[0mX_test\u001b[0m\u001b[0;34m[\u001b[0m\u001b[0;34m'Loan'\u001b[0m\u001b[0;34m]\u001b[0m\u001b[0;34m,\u001b[0m \u001b[0mX_test\u001b[0m\u001b[0;34m[\u001b[0m\u001b[0;34m'DerogatoryMarks'\u001b[0m\u001b[0;34m]\u001b[0m\u001b[0;34m)\u001b[0m\u001b[0;34m)\u001b[0m\u001b[0;34m\u001b[0m\u001b[0;34m\u001b[0m\u001b[0m\n\u001b[0m\u001b[1;32m     28\u001b[0m \u001b[0;34m\u001b[0m\u001b[0m\n\u001b[1;32m     29\u001b[0m     \u001b[0mmodel_neigh\u001b[0m\u001b[0;34m.\u001b[0m\u001b[0mfit\u001b[0m\u001b[0;34m(\u001b[0m\u001b[0mX_train\u001b[0m\u001b[0;34m,\u001b[0m\u001b[0my_train\u001b[0m\u001b[0;34m)\u001b[0m\u001b[0;34m\u001b[0m\u001b[0;34m\u001b[0m\u001b[0m\n",
      "\u001b[0;32m<ipython-input-4-e22226ea755f>\u001b[0m in \u001b[0;36mdistance\u001b[0;34m(data_loan, data_derogatory, test_loan, test_derogatory)\u001b[0m\n\u001b[1;32m      5\u001b[0m \u001b[0;34m\u001b[0m\u001b[0m\n\u001b[1;32m      6\u001b[0m \u001b[0;32mdef\u001b[0m \u001b[0mdistance\u001b[0m\u001b[0;34m(\u001b[0m\u001b[0mdata_loan\u001b[0m\u001b[0;34m,\u001b[0m \u001b[0mdata_derogatory\u001b[0m\u001b[0;34m,\u001b[0m \u001b[0mtest_loan\u001b[0m\u001b[0;34m,\u001b[0m \u001b[0mtest_derogatory\u001b[0m\u001b[0;34m)\u001b[0m\u001b[0;34m:\u001b[0m\u001b[0;34m\u001b[0m\u001b[0;34m\u001b[0m\u001b[0m\n\u001b[0;32m----> 7\u001b[0;31m     \u001b[0;32mreturn\u001b[0m \u001b[0mmath\u001b[0m\u001b[0;34m.\u001b[0m\u001b[0msqrt\u001b[0m\u001b[0;34m(\u001b[0m\u001b[0;34m(\u001b[0m\u001b[0mdata_loan\u001b[0m \u001b[0;34m-\u001b[0m \u001b[0mtest_loan\u001b[0m\u001b[0;34m)\u001b[0m \u001b[0;34m**\u001b[0m \u001b[0;36m2\u001b[0m \u001b[0;34m+\u001b[0m \u001b[0;36m100000000\u001b[0m \u001b[0;34m*\u001b[0m \u001b[0;34m(\u001b[0m\u001b[0mdata_derogatory\u001b[0m \u001b[0;34m-\u001b[0m \u001b[0mtest_derogatory\u001b[0m\u001b[0;34m)\u001b[0m \u001b[0;34m**\u001b[0m \u001b[0;36m2\u001b[0m\u001b[0;34m)\u001b[0m\u001b[0;34m\u001b[0m\u001b[0;34m\u001b[0m\u001b[0m\n\u001b[0m\u001b[1;32m      8\u001b[0m \u001b[0;34m\u001b[0m\u001b[0m\n\u001b[1;32m      9\u001b[0m \u001b[0;34m\u001b[0m\u001b[0m\n",
      "\u001b[0;32m/home/renata/anaconda2/envs/python3/lib/python3.6/site-packages/pandas/core/series.py\u001b[0m in \u001b[0;36mwrapper\u001b[0;34m(self)\u001b[0m\n\u001b[1;32m    127\u001b[0m         \u001b[0;32mif\u001b[0m \u001b[0mlen\u001b[0m\u001b[0;34m(\u001b[0m\u001b[0mself\u001b[0m\u001b[0;34m)\u001b[0m \u001b[0;34m==\u001b[0m \u001b[0;36m1\u001b[0m\u001b[0;34m:\u001b[0m\u001b[0;34m\u001b[0m\u001b[0;34m\u001b[0m\u001b[0m\n\u001b[1;32m    128\u001b[0m             \u001b[0;32mreturn\u001b[0m \u001b[0mconverter\u001b[0m\u001b[0;34m(\u001b[0m\u001b[0mself\u001b[0m\u001b[0;34m.\u001b[0m\u001b[0miloc\u001b[0m\u001b[0;34m[\u001b[0m\u001b[0;36m0\u001b[0m\u001b[0;34m]\u001b[0m\u001b[0;34m)\u001b[0m\u001b[0;34m\u001b[0m\u001b[0;34m\u001b[0m\u001b[0m\n\u001b[0;32m--> 129\u001b[0;31m         \u001b[0;32mraise\u001b[0m \u001b[0mTypeError\u001b[0m\u001b[0;34m(\u001b[0m\u001b[0;34mf\"cannot convert the series to {converter}\"\u001b[0m\u001b[0;34m)\u001b[0m\u001b[0;34m\u001b[0m\u001b[0;34m\u001b[0m\u001b[0m\n\u001b[0m\u001b[1;32m    130\u001b[0m \u001b[0;34m\u001b[0m\u001b[0m\n\u001b[1;32m    131\u001b[0m     \u001b[0mwrapper\u001b[0m\u001b[0;34m.\u001b[0m\u001b[0m__name__\u001b[0m \u001b[0;34m=\u001b[0m \u001b[0;34mf\"__{converter.__name__}__\"\u001b[0m\u001b[0;34m\u001b[0m\u001b[0;34m\u001b[0m\u001b[0m\n",
      "\u001b[0;31mTypeError\u001b[0m: cannot convert the series to <class 'float'>"
     ]
    }
   ],
   "source": [
    "import pandas as pd\n",
    "import math\n",
    "import sklearn\n",
    "\n",
    "def distance(data_loan, data_derogatory, test_loan, test_derogatory):\n",
    "    return math.sqrt((data_loan - test_loan) ** 2 + 100000000 * (data_derogatory - test_derogatory) ** 2)\n",
    "\n",
    "\n",
    "def application_approval(data, loan, derogatory_marks, k):\n",
    "    from sklearn.neighbors import KNeighborsClassifier\n",
    "    from sklearn.model_selection import train_test_split\n",
    "    \"\"\"\n",
    "    :param data: (pandas.DataFrame) A DataFrame that contains training data. \n",
    "                    It has the following columns: Loan, DerogatoryMarks, Accepted.\n",
    "    :param loan: (int) Requested loan.\n",
    "    :param derogatory_marks: (int) Number of derogatory marks for the customer.\n",
    "    :param k: (int) Coeficient k in the k-nearest neighbors' algorithm.\n",
    "    :returns: (boolean) True if the customer's loan can be accepted; False otherwise.\n",
    "    \"\"\"\n",
    "    \n",
    "    y = data['Accepted']\n",
    "    X = data.drop('Accepted',axis=1)\n",
    "    X_train, X_test, y_train, y_test = train_test_split(X,y,test_size = 0.3,random_state = 0)\n",
    "\n",
    "\n",
    "    model_neigh = KNeighborsClassifier(n_neighbors = 1,metric = distance(X_train['Loan'], X_train['DerogatoryMarks'],X_test['Loan'], X_test['DerogatoryMarks']))\n",
    "\n",
    "    model_neigh.fit(X_train,y_train)\n",
    "\n",
    "    data_predict = pd.DataFrame({\n",
    "            'Loan' : [loan],\n",
    "            'DerogatoryMarks' : [derogatory_marks],\n",
    "        }, \n",
    "        columns = ['Loan', 'DerogatoryMarks']\n",
    "    )\n",
    "    print(model_neigh.predict(data_predict))\n",
    "\n",
    "    return None\n",
    "\n",
    "data = pd.DataFrame({\n",
    "            'Loan' : [52000, 100000, 97000, 62000],\n",
    "            'DerogatoryMarks' : [0, 2, 0, 5],\n",
    "            'Accepted' : [True, True, False, True]\n",
    "        }, \n",
    "        columns = ['Loan', 'DerogatoryMarks', 'Accepted']\n",
    "    )\n",
    "print(application_approval(data, 85000, 1, 1))"
   ]
  },
  {
   "cell_type": "markdown",
   "metadata": {},
   "source": [
    "Test 5"
   ]
  },
  {
   "cell_type": "code",
   "execution_count": 20,
   "metadata": {},
   "outputs": [
    {
     "name": "stdout",
     "output_type": "stream",
     "text": [
      "2\n"
     ]
    }
   ],
   "source": [
    "import pandas as pd\n",
    "import math\n",
    "\n",
    "def num_names(names, required_pct):\n",
    "    \"\"\"\n",
    "    :param names: (list) A list of first names.\n",
    "    :param required_pct: (int) The required percentage of the sample data to be preprinted.\n",
    "    :returns: (int) The minimum number of unique first names (or templates) that need to be prepared.\n",
    "    \"\"\"\n",
    "    dict_names = {'Name':[],'%Present':[]}\n",
    "\n",
    "    for name in names:\n",
    "        if name in dict_names['Name']:\n",
    "            pass\n",
    "        else:\n",
    "            dict_names['Name'].append(name)\n",
    "            dict_names['%Present'].append(float(names.count(name))/len(names))\n",
    "    \n",
    "    df = pd.DataFrame(dict_names)\n",
    "    df = df.sort_values('%Present',ascending=False)\n",
    "\n",
    "    required_pct = required_pct/100\n",
    "    sum=0.\n",
    "    minimum_names = 0\n",
    "    for index, row in df.iterrows():\n",
    "        if sum >= required_pct:\n",
    "            break\n",
    "        else:\n",
    "            sum += row['%Present']\n",
    "            minimum_names += 1\n",
    "\n",
    "    return minimum_names\n",
    "        \n",
    "names = [\"James\", \"Sophia\", \"James\", \"Sophia\", \"James\", \"Sophia\", \"Emma\", \"Jack\"]\n",
    "print(num_names(names, 75))"
   ]
  }
 ],
 "metadata": {
  "kernelspec": {
   "display_name": "Python 3.6.13 ('python3')",
   "language": "python",
   "name": "python3"
  },
  "language_info": {
   "codemirror_mode": {
    "name": "ipython",
    "version": 3
   },
   "file_extension": ".py",
   "mimetype": "text/x-python",
   "name": "python",
   "nbconvert_exporter": "python",
   "pygments_lexer": "ipython3",
   "version": "3.6.13"
  },
  "orig_nbformat": 4,
  "vscode": {
   "interpreter": {
    "hash": "cb2bbfe96151b3affda237293ce0e4190ec2d328bec4ad4f32e4843d84569a2b"
   }
  }
 },
 "nbformat": 4,
 "nbformat_minor": 2
}
