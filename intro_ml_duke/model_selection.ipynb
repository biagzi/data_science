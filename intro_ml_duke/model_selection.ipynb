{
 "cells": [
  {
   "cell_type": "markdown",
   "metadata": {},
   "source": [
    "### Model Selection\n"
   ]
  },
  {
   "cell_type": "markdown",
   "metadata": {},
   "source": [
    "Suppose we have two models: Logistic Regression (LR) and Multilayer Perceptron (MP), how to choose what to use?\n",
    "\n",
    "Bias Variance Trade-Off:\n",
    "- Bias of an estimator: difference between this estimator's expected value and the true value of the parameter being estimated. Bias error: an error from an erroneous assumption of the algorithm (high bias = underfitting)\n",
    "- Variance: error from sensitivity to small fluctuations in the training set. If I have different instantiations of training data set examples, how different would be the model for each one of them? We would like to minimize the difference of parameters due to different data sets, but if it is large we have an error of overfitting."
   ]
  },
  {
   "cell_type": "markdown",
   "metadata": {},
   "source": [
    "Using a model more complex that is necessarily can result in an overfitting (you are modeling the variance of the data, not the actual important relationships). Using a model less complex than is necessarily can result in an underfitting (you are missing the important relationships between the parameters because your model is not complex enough to capture it)."
   ]
  },
  {
   "cell_type": "markdown",
   "metadata": {},
   "source": []
  }
 ],
 "metadata": {
  "kernelspec": {
   "display_name": "Python 3.6.13 ('python3')",
   "language": "python",
   "name": "python3"
  },
  "language_info": {
   "codemirror_mode": {
    "name": "ipython",
    "version": 2
   },
   "file_extension": ".py",
   "mimetype": "text/x-python",
   "name": "python",
   "nbconvert_exporter": "python",
   "pygments_lexer": "ipython2",
   "version": "3.6.13"
  },
  "orig_nbformat": 4,
  "vscode": {
   "interpreter": {
    "hash": "cb2bbfe96151b3affda237293ce0e4190ec2d328bec4ad4f32e4843d84569a2b"
   }
  }
 },
 "nbformat": 4,
 "nbformat_minor": 2
}
