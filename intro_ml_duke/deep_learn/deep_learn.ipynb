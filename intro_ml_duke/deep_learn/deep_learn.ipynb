{
 "cells": [
  {
   "cell_type": "markdown",
   "metadata": {},
   "source": [
    "deep = multiple layers of latent processes"
   ]
  },
  {
   "cell_type": "markdown",
   "metadata": {},
   "source": []
  }
 ],
 "metadata": {
  "kernelspec": {
   "display_name": "Python 3.6.13 ('python3')",
   "language": "python",
   "name": "python3"
  },
  "language_info": {
   "name": "python",
   "version": "3.6.13"
  },
  "orig_nbformat": 4,
  "vscode": {
   "interpreter": {
    "hash": "cb2bbfe96151b3affda237293ce0e4190ec2d328bec4ad4f32e4843d84569a2b"
   }
  }
 },
 "nbformat": 4,
 "nbformat_minor": 2
}
