{
 "cells": [
  {
   "cell_type": "code",
   "execution_count": 2,
   "metadata": {},
   "outputs": [],
   "source": [
    "import pandas as pd"
   ]
  },
  {
   "cell_type": "markdown",
   "metadata": {},
   "source": [
    "# Area dataset analysis"
   ]
  },
  {
   "cell_type": "code",
   "execution_count": 11,
   "metadata": {},
   "outputs": [],
   "source": [
    "df_area = pd.read_csv('raw_data/area_raw_data.csv')"
   ]
  },
  {
   "cell_type": "code",
   "execution_count": 12,
   "metadata": {},
   "outputs": [
    {
     "data": {
      "text/plain": [
       "Operações     1713\n",
       "Comercial     1590\n",
       "Logística      919\n",
       "Financeiro      92\n",
       "Pessoas         80\n",
       "Name: Área, dtype: int64"
      ]
     },
     "execution_count": 12,
     "metadata": {},
     "output_type": "execute_result"
    }
   ],
   "source": [
    "df_area.Área.value_counts()"
   ]
  },
  {
   "cell_type": "code",
   "execution_count": 21,
   "metadata": {},
   "outputs": [
    {
     "name": "stdout",
     "output_type": "stream",
     "text": [
      "<class 'pandas.core.frame.DataFrame'>\n",
      "RangeIndex: 4394 entries, 0 to 4393\n",
      "Data columns (total 2 columns):\n",
      " #   Column  Non-Null Count  Dtype \n",
      "---  ------  --------------  ----- \n",
      " 0   CPF     4394 non-null   object\n",
      " 1   Área    4394 non-null   object\n",
      "dtypes: object(2)\n",
      "memory usage: 68.8+ KB\n"
     ]
    }
   ],
   "source": [
    "df_area.info()"
   ]
  },
  {
   "cell_type": "markdown",
   "metadata": {},
   "source": [
    "# Performance dataset analysis"
   ]
  },
  {
   "cell_type": "code",
   "execution_count": 3,
   "metadata": {},
   "outputs": [],
   "source": [
    "df_per = pd.read_csv('raw_data/performance_raw_data.csv')"
   ]
  },
  {
   "cell_type": "code",
   "execution_count": 4,
   "metadata": {},
   "outputs": [
    {
     "name": "stdout",
     "output_type": "stream",
     "text": [
      "<class 'pandas.core.frame.DataFrame'>\n",
      "RangeIndex: 2382 entries, 0 to 2381\n",
      "Data columns (total 5 columns):\n",
      " #   Column               Non-Null Count  Dtype  \n",
      "---  ------               --------------  -----  \n",
      " 0   CPF                  2382 non-null   object \n",
      " 1   Performance 1º/2019  1547 non-null   float64\n",
      " 2   Performance 2º/2018  1577 non-null   float64\n",
      " 3   Performance 1º/2018  988 non-null    float64\n",
      " 4   Performance 2º 2017  353 non-null    float64\n",
      "dtypes: float64(4), object(1)\n",
      "memory usage: 93.2+ KB\n"
     ]
    }
   ],
   "source": [
    "df_per.info()"
   ]
  },
  {
   "cell_type": "code",
   "execution_count": 5,
   "metadata": {},
   "outputs": [
    {
     "data": {
      "text/html": [
       "<div>\n",
       "<style scoped>\n",
       "    .dataframe tbody tr th:only-of-type {\n",
       "        vertical-align: middle;\n",
       "    }\n",
       "\n",
       "    .dataframe tbody tr th {\n",
       "        vertical-align: top;\n",
       "    }\n",
       "\n",
       "    .dataframe thead th {\n",
       "        text-align: right;\n",
       "    }\n",
       "</style>\n",
       "<table border=\"1\" class=\"dataframe\">\n",
       "  <thead>\n",
       "    <tr style=\"text-align: right;\">\n",
       "      <th></th>\n",
       "      <th>Performance 1º/2019</th>\n",
       "      <th>Performance 2º/2018</th>\n",
       "      <th>Performance 1º/2018</th>\n",
       "      <th>Performance 2º 2017</th>\n",
       "    </tr>\n",
       "  </thead>\n",
       "  <tbody>\n",
       "    <tr>\n",
       "      <th>count</th>\n",
       "      <td>1547.000000</td>\n",
       "      <td>1577.000000</td>\n",
       "      <td>988.000000</td>\n",
       "      <td>353.000000</td>\n",
       "    </tr>\n",
       "    <tr>\n",
       "      <th>mean</th>\n",
       "      <td>1.997414</td>\n",
       "      <td>1.984781</td>\n",
       "      <td>1.998988</td>\n",
       "      <td>1.662890</td>\n",
       "    </tr>\n",
       "    <tr>\n",
       "      <th>std</th>\n",
       "      <td>0.490524</td>\n",
       "      <td>0.560793</td>\n",
       "      <td>0.823292</td>\n",
       "      <td>0.830669</td>\n",
       "    </tr>\n",
       "    <tr>\n",
       "      <th>min</th>\n",
       "      <td>1.000000</td>\n",
       "      <td>1.000000</td>\n",
       "      <td>1.000000</td>\n",
       "      <td>1.000000</td>\n",
       "    </tr>\n",
       "    <tr>\n",
       "      <th>25%</th>\n",
       "      <td>2.000000</td>\n",
       "      <td>2.000000</td>\n",
       "      <td>1.000000</td>\n",
       "      <td>1.000000</td>\n",
       "    </tr>\n",
       "    <tr>\n",
       "      <th>50%</th>\n",
       "      <td>2.000000</td>\n",
       "      <td>2.000000</td>\n",
       "      <td>2.000000</td>\n",
       "      <td>1.000000</td>\n",
       "    </tr>\n",
       "    <tr>\n",
       "      <th>75%</th>\n",
       "      <td>2.000000</td>\n",
       "      <td>2.000000</td>\n",
       "      <td>3.000000</td>\n",
       "      <td>2.000000</td>\n",
       "    </tr>\n",
       "    <tr>\n",
       "      <th>max</th>\n",
       "      <td>3.000000</td>\n",
       "      <td>3.000000</td>\n",
       "      <td>3.000000</td>\n",
       "      <td>3.000000</td>\n",
       "    </tr>\n",
       "  </tbody>\n",
       "</table>\n",
       "</div>"
      ],
      "text/plain": [
       "       Performance 1º/2019  Performance 2º/2018  Performance 1º/2018  \\\n",
       "count          1547.000000          1577.000000           988.000000   \n",
       "mean              1.997414             1.984781             1.998988   \n",
       "std               0.490524             0.560793             0.823292   \n",
       "min               1.000000             1.000000             1.000000   \n",
       "25%               2.000000             2.000000             1.000000   \n",
       "50%               2.000000             2.000000             2.000000   \n",
       "75%               2.000000             2.000000             3.000000   \n",
       "max               3.000000             3.000000             3.000000   \n",
       "\n",
       "       Performance 2º 2017  \n",
       "count           353.000000  \n",
       "mean              1.662890  \n",
       "std               0.830669  \n",
       "min               1.000000  \n",
       "25%               1.000000  \n",
       "50%               1.000000  \n",
       "75%               2.000000  \n",
       "max               3.000000  "
      ]
     },
     "execution_count": 5,
     "metadata": {},
     "output_type": "execute_result"
    }
   ],
   "source": [
    "df_per.describe()"
   ]
  },
  {
   "cell_type": "markdown",
   "metadata": {},
   "source": [
    "# Psyc Test dataset analysis"
   ]
  },
  {
   "cell_type": "code",
   "execution_count": 22,
   "metadata": {},
   "outputs": [],
   "source": [
    "df_psy = pd.read_csv('raw_data/test_raw_data.csv')"
   ]
  },
  {
   "cell_type": "code",
   "execution_count": 23,
   "metadata": {},
   "outputs": [
    {
     "name": "stdout",
     "output_type": "stream",
     "text": [
      "<class 'pandas.core.frame.DataFrame'>\n",
      "RangeIndex: 4281 entries, 0 to 4280\n",
      "Data columns (total 58 columns):\n",
      " #   Column                               Non-Null Count  Dtype  \n",
      "---  ------                               --------------  -----  \n",
      " 0   Nome                                 4281 non-null   object \n",
      " 1   Sobrenome                            4281 non-null   object \n",
      " 2   E-mail                               4281 non-null   object \n",
      " 3   CPF                                  4281 non-null   object \n",
      " 4   Match                                0 non-null      float64\n",
      " 5   Potencial Bruto                      928 non-null    float64\n",
      " 6   Raciocínio                           3234 non-null   float64\n",
      " 7   Social                               981 non-null    float64\n",
      " 8   Motivacional                         956 non-null    float64\n",
      " 9   Cultura pontuação                    3311 non-null   float64\n",
      " 10  Cultura classificação                3311 non-null   object \n",
      " 11  atributo-Capacidade analítica        921 non-null    float64\n",
      " 12  atributo-Pensamento conceitual       921 non-null    float64\n",
      " 13  atributo-Reflexão                    921 non-null    float64\n",
      " 14  atributo-Pensamento criativo         921 non-null    float64\n",
      " 15  atributo-Planejamento e organização  921 non-null    float64\n",
      " 16  atributo-Comunicação                 921 non-null    float64\n",
      " 17  atributo-Consideração pelos outros   921 non-null    float64\n",
      " 18  atributo-Influência                  921 non-null    float64\n",
      " 19  atributo-Sociabilidade               921 non-null    float64\n",
      " 20  atributo-Facilitação                 921 non-null    float64\n",
      " 21  atributo-Flexibilidade               921 non-null    float64\n",
      " 22  atributo-Estabilidade emocional      921 non-null    float64\n",
      " 23  atributo-Ambição                     921 non-null    float64\n",
      " 24  atributo-Iniciativa                  921 non-null    float64\n",
      " 25  atributo-Assertividade               921 non-null    float64\n",
      " 26  atributo-Tomada de riscos            921 non-null    float64\n",
      " 27  perfil-Capacidade analítica          1019 non-null   float64\n",
      " 28  perfil-Pensamento conceitual         1019 non-null   float64\n",
      " 29  perfil-Reflexão                      1019 non-null   float64\n",
      " 30  perfil-Pensamento criativo           1019 non-null   float64\n",
      " 31  perfil-Planejamento e organização    1019 non-null   float64\n",
      " 32  perfil-Comunicação                   1019 non-null   float64\n",
      " 33  perfil-Consideração pelos outros     1019 non-null   float64\n",
      " 34  perfil-Influência                    1019 non-null   float64\n",
      " 35  perfil-Sociabilidade                 1019 non-null   float64\n",
      " 36  perfil-Facilitação                   1019 non-null   float64\n",
      " 37  perfil-Flexibilidade                 1019 non-null   float64\n",
      " 38  perfil-Estabilidade emocional        1019 non-null   float64\n",
      " 39  perfil-Ambição                       1019 non-null   float64\n",
      " 40  perfil-Iniciativa                    1019 non-null   float64\n",
      " 41  perfil-Assertividade                 1019 non-null   float64\n",
      " 42  perfil-Tomada de riscos              1019 non-null   float64\n",
      " 43  URL Raciocínio                       4281 non-null   object \n",
      " 44  URL Cultura                          4281 non-null   object \n",
      " 45  URL Social                           4281 non-null   object \n",
      " 46  URL Motivacional                     4281 non-null   object \n",
      " 47  URL Perfil                           4281 non-null   object \n",
      " 48  Início - Raciocínio                  3508 non-null   object \n",
      " 49  Fim - Raciocínio                     3221 non-null   object \n",
      " 50  Início - Cultura                     3337 non-null   object \n",
      " 51  Fim - Cultura                        3297 non-null   object \n",
      " 52  Início - Social                      998 non-null    object \n",
      " 53  Fim - Social                         981 non-null    object \n",
      " 54  Início - Motivacional                967 non-null    object \n",
      " 55  Fim - Motivacional                   956 non-null    object \n",
      " 56  Início - Perfil                      1027 non-null   object \n",
      " 57  Fim - Perfil                         1019 non-null   object \n",
      "dtypes: float64(38), object(20)\n",
      "memory usage: 1.9+ MB\n"
     ]
    }
   ],
   "source": [
    "df_psy.info()"
   ]
  },
  {
   "cell_type": "markdown",
   "metadata": {},
   "source": [
    "Keep just the CPFs that exist in the 3 datasets"
   ]
  }
 ],
 "metadata": {
  "kernelspec": {
   "display_name": "Python 3.6.13 ('python3')",
   "language": "python",
   "name": "python3"
  },
  "language_info": {
   "codemirror_mode": {
    "name": "ipython",
    "version": 3
   },
   "file_extension": ".py",
   "mimetype": "text/x-python",
   "name": "python",
   "nbconvert_exporter": "python",
   "pygments_lexer": "ipython3",
   "version": "3.6.13"
  },
  "orig_nbformat": 4,
  "vscode": {
   "interpreter": {
    "hash": "cb2bbfe96151b3affda237293ce0e4190ec2d328bec4ad4f32e4843d84569a2b"
   }
  }
 },
 "nbformat": 4,
 "nbformat_minor": 2
}
