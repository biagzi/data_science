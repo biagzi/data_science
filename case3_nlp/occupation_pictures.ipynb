{
 "cells": [
  {
   "cell_type": "code",
   "execution_count": 943,
   "metadata": {},
   "outputs": [],
   "source": [
    "import pandas as pd\n",
    "import numpy as np\n",
    "import seaborn as sns\n",
    "import matplotlib.pyplot as plt\n",
    "import nltk\n",
    "from nltk import word_tokenize\n",
    "from nltk.corpus import stopwords\n",
    "from nltk.stem import WordNetLemmatizer\n",
    "\n",
    "import string"
   ]
  },
  {
   "cell_type": "markdown",
   "metadata": {},
   "source": [
    "## Preparing the dataset:"
   ]
  },
  {
   "cell_type": "code",
   "execution_count": 944,
   "metadata": {},
   "outputs": [
    {
     "name": "stdout",
     "output_type": "stream",
     "text": [
      "<class 'pandas.core.frame.DataFrame'>\n",
      "RangeIndex: 658 entries, 0 to 657\n",
      "Data columns (total 13 columns):\n",
      " #   Column              Non-Null Count  Dtype  \n",
      "---  ------              --------------  -----  \n",
      " 0   Job Title           658 non-null    object \n",
      " 1   Pic Title           658 non-null    object \n",
      " 2   Num Resumes         658 non-null    int64  \n",
      " 3   Google Position     658 non-null    int64  \n",
      " 4   Strict Face Count   658 non-null    int64  \n",
      " 5   Relaxed Face Count  658 non-null    int64  \n",
      " 6   KB size             658 non-null    float64\n",
      " 7   Height              658 non-null    int64  \n",
      " 8   Width               658 non-null    int64  \n",
      " 9   Resolution          658 non-null    int64  \n",
      " 10  Text Regions        658 non-null    int64  \n",
      " 11  Picture URL         658 non-null    object \n",
      " 12  Manual Label        133 non-null    object \n",
      "dtypes: float64(1), int64(8), object(4)\n",
      "memory usage: 67.0+ KB\n"
     ]
    }
   ],
   "source": [
    "df = pd.read_csv('datasets/occupation_pictures.csv')\n",
    "df.info()"
   ]
  },
  {
   "cell_type": "markdown",
   "metadata": {},
   "source": [
    "The \"Job Title\" and \"Pic Title\" categories are useful when we check if the Pic Title have the words present in the Job Title. For that, I will create a new category \"JobTitle_in_PicTitle\" that has the % of 'Job Title' words that are present in \"Pic Title\""
   ]
  },
  {
   "cell_type": "code",
   "execution_count": 945,
   "metadata": {},
   "outputs": [],
   "source": [
    "#Function that process the text of each sentence for comparison\n",
    "lemmatizer = WordNetLemmatizer()\n",
    "def pre_process_text(title):\n",
    "    title = title.lower() # convert to lower case.\n",
    "    stopset = stopwords.words('english') + list(string.punctuation) # collecting a list of stop words from nltk and punctuation form\n",
    "    return [lemmatizer.lemmatize(i) for i in word_tokenize(title) if i not in stopset] #also lemmatize so similar words can be recognized\n",
    "\n",
    "#Function that return the % of 'Job Title' words that are present in \"Pic Title\"\n",
    "def found_percentage(job_title,pic_title):\n",
    "    pic_title = pre_process_text(pic_title)\n",
    "    job_title = pre_process_text(job_title)\n",
    "\n",
    "    found = 0.\n",
    "    for word in job_title:\n",
    "        if word in pic_title:\n",
    "            found += 1\n",
    "    return found/len(job_title)\n",
    "\n",
    "#Function that return True if all words of 'Job Title' are present in \"Pic Title\" -> This works worse than the other, so I will not use it.\n",
    "def found(job_title,pic_title):\n",
    "    pic_title = pre_process_text(pic_title)\n",
    "    job_title = pre_process_text(job_title)\n",
    "\n",
    "    for word in job_title:\n",
    "        if word not in pic_title:\n",
    "            return False\n",
    "    return True\n",
    "\n",
    "#Creates a new column with JobTitle_in_PicTitle\n",
    "df['JobTitle_in_PicTitle'] = [found_percentage(row['Job Title'],row['Pic Title']) for index, row in df.iterrows()]"
   ]
  },
  {
   "cell_type": "markdown",
   "metadata": {},
   "source": [
    "## Classification model"
   ]
  },
  {
   "cell_type": "code",
   "execution_count": 946,
   "metadata": {},
   "outputs": [],
   "source": [
    "from sklearn.model_selection import train_test_split\n",
    "from imblearn.over_sampling import SMOTE\n",
    "from imblearn.pipeline import Pipeline as imbpipeline\n",
    "from sklearn.ensemble import RandomForestClassifier\n",
    "from sklearn.model_selection import GridSearchCV\n",
    "from sklearn.metrics import confusion_matrix\n",
    "from sklearn.linear_model import LogisticRegression\n",
    "from sklearn.linear_model import LinearRegression\n",
    "from sklearn.preprocessing import StandardScaler\n",
    "\n",
    "#model choice, RFC = RandomForestClassifier\n",
    "model_name = 'RFC'"
   ]
  },
  {
   "cell_type": "code",
   "execution_count": 947,
   "metadata": {},
   "outputs": [],
   "source": [
    "#The training dataset will be just the rows with Manual Label nonNan\n",
    "df_training = df.dropna(axis=0,how='any')"
   ]
  },
  {
   "cell_type": "markdown",
   "metadata": {},
   "source": [
    "For a first analysis, the \"Google Position\", \"Num Resumes\", \"Relaxed Face Count\" and \"Picture URL\" will not be used because by the labeled pictures examples, this categories can be misleading or not add useful information for the labeling."
   ]
  },
  {
   "cell_type": "code",
   "execution_count": 948,
   "metadata": {},
   "outputs": [],
   "source": [
    "y = df_training['Manual Label'].map({'good':1,'bad':0}) #changing good = 1 and bad = 0\n",
    "training_features = [\"Strict Face Count\",\"KB size\", \"Height\", \"Width\", \"Resolution\",\"Text Regions\",\"JobTitle_in_PicTitle\"]\n",
    "X = df_training[training_features]"
   ]
  },
  {
   "cell_type": "code",
   "execution_count": 949,
   "metadata": {},
   "outputs": [
    {
     "name": "stdout",
     "output_type": "stream",
     "text": [
      "1    91\n",
      "0    42\n",
      "Name: Manual Label, dtype: int64\n"
     ]
    }
   ],
   "source": [
    "print(y.value_counts()) "
   ]
  },
  {
   "cell_type": "code",
   "execution_count": 950,
   "metadata": {},
   "outputs": [],
   "source": [
    "X_train, X_test, y_train, y_test = train_test_split(X,y,test_size = 0.25,random_state = 0)\n",
    "\n",
    "\n",
    "if model_name == 'RFC':\n",
    "    model = RandomForestClassifier(random_state=0)  #classifier: constructs a lot of decision trees and uses the class selected by most trees\n",
    "    hyper_params = {\n",
    "        'model__n_estimators': [3,10],\n",
    "        'model__max_depth': [None,2,3],\n",
    "        'model__min_samples_split':[2,3]\n",
    "    }\n",
    "\n",
    "\n",
    "#defining the pipeline steps\n",
    "pipeline = imbpipeline(steps=[\n",
    "    #('scaler', StandardScaler()),                                     #transform: standart normalization of values (mean = 0, std = 1)\n",
    "    ('smote', SMOTE(random_state=0)), #Transformer to deal with the target unbalance\n",
    "    ('model', model)\n",
    "                        ])\n",
    "\n",
    "# grid search definition\n",
    "grid = GridSearchCV(\n",
    "    pipeline,\n",
    "    param_grid = hyper_params,\n",
    "    scoring = 'f1',   #balance between precision (true positives compared to all the positives) and recall(trues found compared to the total trues)\n",
    "    cv = 10,\n",
    "    n_jobs = 1)"
   ]
  },
  {
   "cell_type": "code",
   "execution_count": 951,
   "metadata": {},
   "outputs": [
    {
     "name": "stdout",
     "output_type": "stream",
     "text": [
      "Best params {'model__max_depth': 3, 'model__min_samples_split': 2, 'model__n_estimators': 3}\n",
      "Best score 0.7402120102120102\n"
     ]
    }
   ],
   "source": [
    "grid = grid.fit(X_train, y_train)\n",
    "y_test_predict = grid.predict(X_test)\n",
    "\n",
    "print(\"Best params\",grid.best_params_)\n",
    "print(\"Best score\",grid.best_score_)"
   ]
  },
  {
   "cell_type": "markdown",
   "metadata": {},
   "source": [
    "### Checking score"
   ]
  },
  {
   "cell_type": "code",
   "execution_count": 952,
   "metadata": {},
   "outputs": [
    {
     "name": "stdout",
     "output_type": "stream",
     "text": [
      "[[0.72727273 0.27272727]\n",
      " [0.26086957 0.73913043]]\n",
      "True negative: 0.73\n",
      "False positive: 0.27\n",
      "False negative: 0.26\n",
      "True positive: 0.74\n"
     ]
    }
   ],
   "source": [
    "matrix = confusion_matrix(y_test, y_test_predict) #rows = true label, columns = predicted labels\n",
    "matrix = matrix.astype('float') / matrix.sum(axis=1)[:, np.newaxis]\n",
    "print(matrix)\n",
    "print('True negative:',round(matrix[0][0],2))\n",
    "print('False positive:',round(matrix[0][1],2))\n",
    "print('False negative:',round(matrix[1][0],2))\n",
    "print('True positive:',round(matrix[1][1],2))\n"
   ]
  },
  {
   "cell_type": "markdown",
   "metadata": {},
   "source": [
    "My evaluation: I think that the model could be improved, mainly to reduce the occurrence of \"False positive\". Because this is the worst type of error for this problem (it is better to miss good images than to consider as good an image that is bad). For example, the \"Text Regions\" feature is important for considering an image \"bad\" but with this model it is not influencing so much the result. I tried changing some other things and testing other models but couldn't solve it in the 2h/3h I'm supposed to finish.\n",
    "\n"
   ]
  },
  {
   "cell_type": "markdown",
   "metadata": {},
   "source": [
    "## Predicting labels"
   ]
  },
  {
   "cell_type": "code",
   "execution_count": 953,
   "metadata": {},
   "outputs": [],
   "source": [
    "df['N'] = grid.predict(df[training_features])\n",
    "df['N'] = df['N'].map({1:'good',0:'bad'}) #changing good = 1 and bad = 0\n",
    "final_df = df.drop(['JobTitle_in_PicTitle'],axis=1)\n",
    "final_df.to_csv('datasets/occupation_pictures_result.csv',index=False)"
   ]
  },
  {
   "cell_type": "code",
   "execution_count": 954,
   "metadata": {},
   "outputs": [
    {
     "data": {
      "text/html": [
       "<div>\n",
       "<style scoped>\n",
       "    .dataframe tbody tr th:only-of-type {\n",
       "        vertical-align: middle;\n",
       "    }\n",
       "\n",
       "    .dataframe tbody tr th {\n",
       "        vertical-align: top;\n",
       "    }\n",
       "\n",
       "    .dataframe thead th {\n",
       "        text-align: right;\n",
       "    }\n",
       "</style>\n",
       "<table border=\"1\" class=\"dataframe\">\n",
       "  <thead>\n",
       "    <tr style=\"text-align: right;\">\n",
       "      <th></th>\n",
       "      <th>Job Title</th>\n",
       "      <th>Pic Title</th>\n",
       "      <th>Num Resumes</th>\n",
       "      <th>Google Position</th>\n",
       "      <th>Strict Face Count</th>\n",
       "      <th>Relaxed Face Count</th>\n",
       "      <th>KB size</th>\n",
       "      <th>Height</th>\n",
       "      <th>Width</th>\n",
       "      <th>Resolution</th>\n",
       "      <th>Text Regions</th>\n",
       "      <th>Picture URL</th>\n",
       "      <th>Manual Label</th>\n",
       "      <th>N</th>\n",
       "    </tr>\n",
       "  </thead>\n",
       "  <tbody>\n",
       "    <tr>\n",
       "      <th>0</th>\n",
       "      <td>3D Modeler</td>\n",
       "      <td>Our Top 19 3D Modeling Software Picks ...</td>\n",
       "      <td>1261</td>\n",
       "      <td>0</td>\n",
       "      <td>0</td>\n",
       "      <td>7</td>\n",
       "      <td>276.763672</td>\n",
       "      <td>1917</td>\n",
       "      <td>2301</td>\n",
       "      <td>4411017</td>\n",
       "      <td>2</td>\n",
       "      <td>https://format-magazine-production-res.cloudin...</td>\n",
       "      <td>NaN</td>\n",
       "      <td>good</td>\n",
       "    </tr>\n",
       "    <tr>\n",
       "      <th>1</th>\n",
       "      <td>3D Modeler</td>\n",
       "      <td>7 Tips for Beginner 3D Modelers ...</td>\n",
       "      <td>1261</td>\n",
       "      <td>1</td>\n",
       "      <td>0</td>\n",
       "      <td>3</td>\n",
       "      <td>44.343750</td>\n",
       "      <td>340</td>\n",
       "      <td>747</td>\n",
       "      <td>253980</td>\n",
       "      <td>5</td>\n",
       "      <td>http://static1.squarespace.com/static/5320f582...</td>\n",
       "      <td>NaN</td>\n",
       "      <td>bad</td>\n",
       "    </tr>\n",
       "    <tr>\n",
       "      <th>2</th>\n",
       "      <td>3D Modeler</td>\n",
       "      <td>How to Become an Expert 3D Modeler ...</td>\n",
       "      <td>1261</td>\n",
       "      <td>2</td>\n",
       "      <td>0</td>\n",
       "      <td>2</td>\n",
       "      <td>43.088867</td>\n",
       "      <td>380</td>\n",
       "      <td>660</td>\n",
       "      <td>250800</td>\n",
       "      <td>8</td>\n",
       "      <td>https://www.gamedesigning.org/wp-content/uploa...</td>\n",
       "      <td>NaN</td>\n",
       "      <td>bad</td>\n",
       "    </tr>\n",
       "    <tr>\n",
       "      <th>3</th>\n",
       "      <td>3D Modeler</td>\n",
       "      <td>What is 3D Modeling &amp; What's It Used For?</td>\n",
       "      <td>1261</td>\n",
       "      <td>3</td>\n",
       "      <td>0</td>\n",
       "      <td>2</td>\n",
       "      <td>78.623047</td>\n",
       "      <td>330</td>\n",
       "      <td>750</td>\n",
       "      <td>247500</td>\n",
       "      <td>1</td>\n",
       "      <td>https://cdn.conceptartempire.com/images/04/522...</td>\n",
       "      <td>NaN</td>\n",
       "      <td>good</td>\n",
       "    </tr>\n",
       "    <tr>\n",
       "      <th>4</th>\n",
       "      <td>3D Modeler</td>\n",
       "      <td>Shoofping 3D Modeler ...</td>\n",
       "      <td>1261</td>\n",
       "      <td>4</td>\n",
       "      <td>0</td>\n",
       "      <td>1</td>\n",
       "      <td>97.517578</td>\n",
       "      <td>1075</td>\n",
       "      <td>1909</td>\n",
       "      <td>2052175</td>\n",
       "      <td>3</td>\n",
       "      <td>http://shoofping.com/wp-content/uploads/2017/1...</td>\n",
       "      <td>NaN</td>\n",
       "      <td>good</td>\n",
       "    </tr>\n",
       "    <tr>\n",
       "      <th>...</th>\n",
       "      <td>...</td>\n",
       "      <td>...</td>\n",
       "      <td>...</td>\n",
       "      <td>...</td>\n",
       "      <td>...</td>\n",
       "      <td>...</td>\n",
       "      <td>...</td>\n",
       "      <td>...</td>\n",
       "      <td>...</td>\n",
       "      <td>...</td>\n",
       "      <td>...</td>\n",
       "      <td>...</td>\n",
       "      <td>...</td>\n",
       "      <td>...</td>\n",
       "    </tr>\n",
       "    <tr>\n",
       "      <th>653</th>\n",
       "      <td>Wind Turbine Engineer</td>\n",
       "      <td>Wind turbine technician fastest-growing ...</td>\n",
       "      <td>61</td>\n",
       "      <td>4</td>\n",
       "      <td>0</td>\n",
       "      <td>0</td>\n",
       "      <td>89.249023</td>\n",
       "      <td>720</td>\n",
       "      <td>1280</td>\n",
       "      <td>921600</td>\n",
       "      <td>0</td>\n",
       "      <td>https://i.ytimg.com/vi/lUf2mOYp1d4/maxresdefau...</td>\n",
       "      <td>good</td>\n",
       "      <td>good</td>\n",
       "    </tr>\n",
       "    <tr>\n",
       "      <th>654</th>\n",
       "      <td>Wind Turbine Engineer</td>\n",
       "      <td>How to Become a Wind Energy Engineer ...</td>\n",
       "      <td>61</td>\n",
       "      <td>5</td>\n",
       "      <td>0</td>\n",
       "      <td>0</td>\n",
       "      <td>37.949219</td>\n",
       "      <td>200</td>\n",
       "      <td>300</td>\n",
       "      <td>60000</td>\n",
       "      <td>0</td>\n",
       "      <td>https://www.environmentalscience.org/wp-conten...</td>\n",
       "      <td>NaN</td>\n",
       "      <td>bad</td>\n",
       "    </tr>\n",
       "    <tr>\n",
       "      <th>655</th>\n",
       "      <td>Wind Turbine Engineer</td>\n",
       "      <td>Wind - Get Into Energy</td>\n",
       "      <td>61</td>\n",
       "      <td>6</td>\n",
       "      <td>0</td>\n",
       "      <td>1</td>\n",
       "      <td>324.730469</td>\n",
       "      <td>500</td>\n",
       "      <td>750</td>\n",
       "      <td>375000</td>\n",
       "      <td>1</td>\n",
       "      <td>http://getintoenergy.com/wp-content/uploads/20...</td>\n",
       "      <td>good</td>\n",
       "      <td>good</td>\n",
       "    </tr>\n",
       "    <tr>\n",
       "      <th>656</th>\n",
       "      <td>Wind Turbine Engineer</td>\n",
       "      <td>Wind-energy programs yield engineering ...</td>\n",
       "      <td>61</td>\n",
       "      <td>7</td>\n",
       "      <td>0</td>\n",
       "      <td>1</td>\n",
       "      <td>36.197266</td>\n",
       "      <td>920</td>\n",
       "      <td>613</td>\n",
       "      <td>563960</td>\n",
       "      <td>0</td>\n",
       "      <td>https://s.hdnux.com/photos/20/15/22/4248747/3/...</td>\n",
       "      <td>good</td>\n",
       "      <td>good</td>\n",
       "    </tr>\n",
       "    <tr>\n",
       "      <th>657</th>\n",
       "      <td>Wind Turbine Engineer</td>\n",
       "      <td>Career Map: Wind Technician ...</td>\n",
       "      <td>61</td>\n",
       "      <td>8</td>\n",
       "      <td>0</td>\n",
       "      <td>2</td>\n",
       "      <td>167.145508</td>\n",
       "      <td>379</td>\n",
       "      <td>525</td>\n",
       "      <td>198975</td>\n",
       "      <td>0</td>\n",
       "      <td>https://www.energy.gov/sites/prod/files/styles...</td>\n",
       "      <td>good</td>\n",
       "      <td>good</td>\n",
       "    </tr>\n",
       "  </tbody>\n",
       "</table>\n",
       "<p>658 rows × 14 columns</p>\n",
       "</div>"
      ],
      "text/plain": [
       "                 Job Title                                    Pic Title  \\\n",
       "0               3D Modeler    Our Top 19 3D Modeling Software Picks ...   \n",
       "1               3D Modeler          7 Tips for Beginner 3D Modelers ...   \n",
       "2               3D Modeler       How to Become an Expert 3D Modeler ...   \n",
       "3               3D Modeler    What is 3D Modeling & What's It Used For?   \n",
       "4               3D Modeler                     Shoofping 3D Modeler ...   \n",
       "..                     ...                                          ...   \n",
       "653  Wind Turbine Engineer  Wind turbine technician fastest-growing ...   \n",
       "654  Wind Turbine Engineer     How to Become a Wind Energy Engineer ...   \n",
       "655  Wind Turbine Engineer                       Wind - Get Into Energy   \n",
       "656  Wind Turbine Engineer   Wind-energy programs yield engineering ...   \n",
       "657  Wind Turbine Engineer              Career Map: Wind Technician ...   \n",
       "\n",
       "     Num Resumes  Google Position  Strict Face Count  Relaxed Face Count  \\\n",
       "0           1261                0                  0                   7   \n",
       "1           1261                1                  0                   3   \n",
       "2           1261                2                  0                   2   \n",
       "3           1261                3                  0                   2   \n",
       "4           1261                4                  0                   1   \n",
       "..           ...              ...                ...                 ...   \n",
       "653           61                4                  0                   0   \n",
       "654           61                5                  0                   0   \n",
       "655           61                6                  0                   1   \n",
       "656           61                7                  0                   1   \n",
       "657           61                8                  0                   2   \n",
       "\n",
       "        KB size  Height  Width  Resolution  Text Regions  \\\n",
       "0    276.763672    1917   2301     4411017             2   \n",
       "1     44.343750     340    747      253980             5   \n",
       "2     43.088867     380    660      250800             8   \n",
       "3     78.623047     330    750      247500             1   \n",
       "4     97.517578    1075   1909     2052175             3   \n",
       "..          ...     ...    ...         ...           ...   \n",
       "653   89.249023     720   1280      921600             0   \n",
       "654   37.949219     200    300       60000             0   \n",
       "655  324.730469     500    750      375000             1   \n",
       "656   36.197266     920    613      563960             0   \n",
       "657  167.145508     379    525      198975             0   \n",
       "\n",
       "                                           Picture URL Manual Label     N  \n",
       "0    https://format-magazine-production-res.cloudin...          NaN  good  \n",
       "1    http://static1.squarespace.com/static/5320f582...          NaN   bad  \n",
       "2    https://www.gamedesigning.org/wp-content/uploa...          NaN   bad  \n",
       "3    https://cdn.conceptartempire.com/images/04/522...          NaN  good  \n",
       "4    http://shoofping.com/wp-content/uploads/2017/1...          NaN  good  \n",
       "..                                                 ...          ...   ...  \n",
       "653  https://i.ytimg.com/vi/lUf2mOYp1d4/maxresdefau...         good  good  \n",
       "654  https://www.environmentalscience.org/wp-conten...          NaN   bad  \n",
       "655  http://getintoenergy.com/wp-content/uploads/20...         good  good  \n",
       "656  https://s.hdnux.com/photos/20/15/22/4248747/3/...         good  good  \n",
       "657  https://www.energy.gov/sites/prod/files/styles...         good  good  \n",
       "\n",
       "[658 rows x 14 columns]"
      ]
     },
     "execution_count": 954,
     "metadata": {},
     "output_type": "execute_result"
    }
   ],
   "source": [
    "final_df"
   ]
  }
 ],
 "metadata": {
  "kernelspec": {
   "display_name": "Python 3.6.13 ('python3')",
   "language": "python",
   "name": "python3"
  },
  "language_info": {
   "codemirror_mode": {
    "name": "ipython",
    "version": 3
   },
   "file_extension": ".py",
   "mimetype": "text/x-python",
   "name": "python",
   "nbconvert_exporter": "python",
   "pygments_lexer": "ipython3",
   "version": "3.6.13"
  },
  "vscode": {
   "interpreter": {
    "hash": "cb2bbfe96151b3affda237293ce0e4190ec2d328bec4ad4f32e4843d84569a2b"
   }
  }
 },
 "nbformat": 4,
 "nbformat_minor": 4
}
