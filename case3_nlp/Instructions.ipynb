{
 "cells": [
  {
   "cell_type": "markdown",
   "metadata": {},
   "source": [
    "# Determining Relevant Job Title Pictures\n",
    "\n",
    "The objective of this short project is to automatically find relevant pictures for job titles, to show them in our pages that explain what those job titles do.\n",
    "\n",
    "We are looking for pictures that represent the activities typically associated with that job title, showing people or tools used on the job.\n",
    "\n",
    "## Dataset\n",
    "\n",
    "The dataset provided is a .csv file with a set of pictures queried from Google Images, with the following available metadata and pre-extracted features:\n",
    "\n",
    "* Job Title: the job we are trying to get pictures for.\n",
    "\n",
    "* Pic Title: the picture title according to Google Images.\n",
    "\n",
    "* Num Resumes: the number of resumes we have available for the job title. This indicates how popular /common the job title is.\n",
    "\n",
    "* Google Position: the position of the image in the search results.\n",
    "\n",
    "* Strict Face Count: face count according to a high-precision face recognition algorithm from OpenCV. When it detects a face, it is a human face almost 100% of the time, but it doesn't detect all human faces.\n",
    "\n",
    "* Relaxed Face Count: face count according to a high-recall face recognition algorithm from OpenCV. It detects human faces almost 100% of the time, but it also confuses some other shapes and objects with human faces.\n",
    "\n",
    "* KB size: size of the image in kilobytes.\n",
    "\n",
    "* Height: pixel height of the image.\n",
    "\n",
    "* Width: pixel width of the image.\n",
    "\n",
    "* Resolution: total pixels in the image.\n",
    "\n",
    "* Text regions: number of text regions identified in the image, also using OpenCV.\n",
    "\n",
    "* Picture URL: the URL of the image.\n",
    "\n",
    "* Manual Label: a label indicating if the picture is good (relevant) or bad (irrelevant).\n",
    "\n",
    "## Objective\n",
    "\n",
    "The objective of the project is to create an algorithm that will produce a label (\"good\" or \"bad\") for every image provided in the dataset. You can use any approach you want for this. Around 130 labaled images are provided for you to use as reference.\n",
    "\n",
    "\n",
    "## Evaluation\n",
    "\n",
    "The results of the project will be evaluated on the following aspects:\n",
    "\n",
    "* Formatting of the results: the results of your work should be provided in the same format as the test: an .ipynb notebook with the code, and a .csv file with the data. The only difference between the input and output .csv files should be one, and only one, additional column at the end of the sheet (column N) containing the labels calculated by your solution. This is so we can automatically measure the accuracy of the results, and to keep the format consistent across candidates. Failure to provide the results in the specified format will most likely result in a dismissed application.\n",
    "\n",
    "* Objective quality of the results: we have a set of labels that your results will be compared against. The higher the accuracy, the better.\n",
    "\n",
    "* Logic applied and simplicity of the solution. Everything else being equal, a well-reasoned and simple solution will be considered better than a seemingly random and complicated solution.\n",
    "\n",
    "## Tips\n",
    "\n",
    "* Look at a few labeled pictures on your browser to understand what makes a good picture and what makes a bad picture.\n",
    "\n",
    "* When you produce a set of labels, look at a few pictures outside of the pre-labeled set to see if you generally agree with your algorithm's labels.\n",
    "\n",
    "* Do not re-download and re-process the pictures. Image processing can be time-consuming and the most important related features have already been provided."
   ]
  },
  {
   "cell_type": "code",
   "execution_count": null,
   "metadata": {},
   "outputs": [],
   "source": []
  },
  {
   "cell_type": "code",
   "execution_count": null,
   "metadata": {},
   "outputs": [],
   "source": []
  }
 ],
 "metadata": {
  "kernelspec": {
   "display_name": "Python 3",
   "language": "python",
   "name": "python3"
  },
  "language_info": {
   "codemirror_mode": {
    "name": "ipython",
    "version": 3
   },
   "file_extension": ".py",
   "mimetype": "text/x-python",
   "name": "python",
   "nbconvert_exporter": "python",
   "pygments_lexer": "ipython3",
   "version": "3.5.2"
  }
 },
 "nbformat": 4,
 "nbformat_minor": 4
}
